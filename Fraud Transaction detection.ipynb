{
 "cells": [
  {
   "cell_type": "markdown",
   "metadata": {},
   "source": [
    "### Credit Card Transactions Fraud Detection Dataset\n",
    "\n",
    "##### About Data Set:\n",
    "\n",
    "This is a simulated credit card transaction dataset containing legitimate and fraud transactions from the duration 1st Jan 2019 - 30th June 2020. It covers credit cards of 1000 customers doing transactions with a pool of 800 merchants.\n",
    "\n",
    "We are going to work on Fraud_Test dataset (as Fraud train dataset is already huge) and will build a model to detect credit card frauds which saves a lot of money and be less risk for banks."
   ]
  },
  {
   "cell_type": "code",
   "execution_count": 2,
   "metadata": {},
   "outputs": [],
   "source": [
    "#Importing the Required Librarires\n",
    "\n",
    "import numpy as np\n",
    "import pandas as pd\n",
    "import matplotlib.pyplot as plt\n",
    "import seaborn as sns\n",
    "\n",
    "%matplotlib inline\n",
    "\n",
    "import warnings\n",
    "warnings.filterwarnings('ignore')"
   ]
  },
  {
   "cell_type": "markdown",
   "metadata": {},
   "source": [
    "### Loading Dataset"
   ]
  },
  {
   "cell_type": "code",
   "execution_count": 3,
   "metadata": {},
   "outputs": [
    {
     "data": {
      "text/html": [
       "<div>\n",
       "<style scoped>\n",
       "    .dataframe tbody tr th:only-of-type {\n",
       "        vertical-align: middle;\n",
       "    }\n",
       "\n",
       "    .dataframe tbody tr th {\n",
       "        vertical-align: top;\n",
       "    }\n",
       "\n",
       "    .dataframe thead th {\n",
       "        text-align: right;\n",
       "    }\n",
       "</style>\n",
       "<table border=\"1\" class=\"dataframe\">\n",
       "  <thead>\n",
       "    <tr style=\"text-align: right;\">\n",
       "      <th></th>\n",
       "      <th>trans_date_trans_time</th>\n",
       "      <th>cc_num</th>\n",
       "      <th>merchant</th>\n",
       "      <th>category</th>\n",
       "      <th>amt</th>\n",
       "      <th>first</th>\n",
       "      <th>last</th>\n",
       "      <th>gender</th>\n",
       "      <th>street</th>\n",
       "      <th>city</th>\n",
       "      <th>...</th>\n",
       "      <th>lat</th>\n",
       "      <th>long</th>\n",
       "      <th>city_pop</th>\n",
       "      <th>job</th>\n",
       "      <th>dob</th>\n",
       "      <th>trans_num</th>\n",
       "      <th>unix_time</th>\n",
       "      <th>merch_lat</th>\n",
       "      <th>merch_long</th>\n",
       "      <th>is_fraud</th>\n",
       "    </tr>\n",
       "  </thead>\n",
       "  <tbody>\n",
       "    <tr>\n",
       "      <th>0</th>\n",
       "      <td>21-06-2020 12:14</td>\n",
       "      <td>2.291160e+15</td>\n",
       "      <td>fraud_Kirlin and Sons</td>\n",
       "      <td>personal_care</td>\n",
       "      <td>2.86</td>\n",
       "      <td>Jeff</td>\n",
       "      <td>Elliott</td>\n",
       "      <td>M</td>\n",
       "      <td>351 Darlene Green</td>\n",
       "      <td>Columbia</td>\n",
       "      <td>...</td>\n",
       "      <td>33.9659</td>\n",
       "      <td>-80.9355</td>\n",
       "      <td>333497</td>\n",
       "      <td>Mechanical engineer</td>\n",
       "      <td>19-03-1968</td>\n",
       "      <td>2da90c7d74bd46a0caf3777415b3ebd3</td>\n",
       "      <td>1371816865</td>\n",
       "      <td>33.986391</td>\n",
       "      <td>-81.200714</td>\n",
       "      <td>0</td>\n",
       "    </tr>\n",
       "    <tr>\n",
       "      <th>1</th>\n",
       "      <td>21-06-2020 12:14</td>\n",
       "      <td>3.573030e+15</td>\n",
       "      <td>fraud_Sporer-Keebler</td>\n",
       "      <td>personal_care</td>\n",
       "      <td>29.84</td>\n",
       "      <td>Joanne</td>\n",
       "      <td>Williams</td>\n",
       "      <td>F</td>\n",
       "      <td>3638 Marsh Union</td>\n",
       "      <td>Altonah</td>\n",
       "      <td>...</td>\n",
       "      <td>40.3207</td>\n",
       "      <td>-110.4360</td>\n",
       "      <td>302</td>\n",
       "      <td>Sales professional, IT</td>\n",
       "      <td>17-01-1990</td>\n",
       "      <td>324cc204407e99f51b0d6ca0055005e7</td>\n",
       "      <td>1371816873</td>\n",
       "      <td>39.450498</td>\n",
       "      <td>-109.960431</td>\n",
       "      <td>0</td>\n",
       "    </tr>\n",
       "    <tr>\n",
       "      <th>2</th>\n",
       "      <td>21-06-2020 12:14</td>\n",
       "      <td>3.598220e+15</td>\n",
       "      <td>fraud_Swaniawski, Nitzsche and Welch</td>\n",
       "      <td>health_fitness</td>\n",
       "      <td>41.28</td>\n",
       "      <td>Ashley</td>\n",
       "      <td>Lopez</td>\n",
       "      <td>F</td>\n",
       "      <td>9333 Valentine Point</td>\n",
       "      <td>Bellmore</td>\n",
       "      <td>...</td>\n",
       "      <td>40.6729</td>\n",
       "      <td>-73.5365</td>\n",
       "      <td>34496</td>\n",
       "      <td>Librarian, public</td>\n",
       "      <td>21-10-1970</td>\n",
       "      <td>c81755dbbbea9d5c77f094348a7579be</td>\n",
       "      <td>1371816893</td>\n",
       "      <td>40.495810</td>\n",
       "      <td>-74.196111</td>\n",
       "      <td>0</td>\n",
       "    </tr>\n",
       "    <tr>\n",
       "      <th>3</th>\n",
       "      <td>21-06-2020 12:15</td>\n",
       "      <td>3.591920e+15</td>\n",
       "      <td>fraud_Haley Group</td>\n",
       "      <td>misc_pos</td>\n",
       "      <td>60.05</td>\n",
       "      <td>Brian</td>\n",
       "      <td>Williams</td>\n",
       "      <td>M</td>\n",
       "      <td>32941 Krystal Mill Apt. 552</td>\n",
       "      <td>Titusville</td>\n",
       "      <td>...</td>\n",
       "      <td>28.5697</td>\n",
       "      <td>-80.8191</td>\n",
       "      <td>54767</td>\n",
       "      <td>Set designer</td>\n",
       "      <td>25-07-1987</td>\n",
       "      <td>2159175b9efe66dc301f149d3d5abf8c</td>\n",
       "      <td>1371816915</td>\n",
       "      <td>28.812398</td>\n",
       "      <td>-80.883061</td>\n",
       "      <td>0</td>\n",
       "    </tr>\n",
       "    <tr>\n",
       "      <th>4</th>\n",
       "      <td>21-06-2020 12:15</td>\n",
       "      <td>3.526830e+15</td>\n",
       "      <td>fraud_Johnston-Casper</td>\n",
       "      <td>travel</td>\n",
       "      <td>3.19</td>\n",
       "      <td>Nathan</td>\n",
       "      <td>Massey</td>\n",
       "      <td>M</td>\n",
       "      <td>5783 Evan Roads Apt. 465</td>\n",
       "      <td>Falmouth</td>\n",
       "      <td>...</td>\n",
       "      <td>44.2529</td>\n",
       "      <td>-85.0170</td>\n",
       "      <td>1126</td>\n",
       "      <td>Furniture designer</td>\n",
       "      <td>06-07-1955</td>\n",
       "      <td>57ff021bd3f328f8738bb535c302a31b</td>\n",
       "      <td>1371816917</td>\n",
       "      <td>44.959148</td>\n",
       "      <td>-85.884734</td>\n",
       "      <td>0</td>\n",
       "    </tr>\n",
       "  </tbody>\n",
       "</table>\n",
       "<p>5 rows × 22 columns</p>\n",
       "</div>"
      ],
      "text/plain": [
       "  trans_date_trans_time        cc_num                              merchant  \\\n",
       "0      21-06-2020 12:14  2.291160e+15                 fraud_Kirlin and Sons   \n",
       "1      21-06-2020 12:14  3.573030e+15                  fraud_Sporer-Keebler   \n",
       "2      21-06-2020 12:14  3.598220e+15  fraud_Swaniawski, Nitzsche and Welch   \n",
       "3      21-06-2020 12:15  3.591920e+15                     fraud_Haley Group   \n",
       "4      21-06-2020 12:15  3.526830e+15                 fraud_Johnston-Casper   \n",
       "\n",
       "         category    amt   first      last gender  \\\n",
       "0   personal_care   2.86    Jeff   Elliott      M   \n",
       "1   personal_care  29.84  Joanne  Williams      F   \n",
       "2  health_fitness  41.28  Ashley     Lopez      F   \n",
       "3        misc_pos  60.05   Brian  Williams      M   \n",
       "4          travel   3.19  Nathan    Massey      M   \n",
       "\n",
       "                        street        city  ...      lat      long  city_pop  \\\n",
       "0            351 Darlene Green    Columbia  ...  33.9659  -80.9355    333497   \n",
       "1             3638 Marsh Union     Altonah  ...  40.3207 -110.4360       302   \n",
       "2         9333 Valentine Point    Bellmore  ...  40.6729  -73.5365     34496   \n",
       "3  32941 Krystal Mill Apt. 552  Titusville  ...  28.5697  -80.8191     54767   \n",
       "4     5783 Evan Roads Apt. 465    Falmouth  ...  44.2529  -85.0170      1126   \n",
       "\n",
       "                      job         dob                         trans_num  \\\n",
       "0     Mechanical engineer  19-03-1968  2da90c7d74bd46a0caf3777415b3ebd3   \n",
       "1  Sales professional, IT  17-01-1990  324cc204407e99f51b0d6ca0055005e7   \n",
       "2       Librarian, public  21-10-1970  c81755dbbbea9d5c77f094348a7579be   \n",
       "3            Set designer  25-07-1987  2159175b9efe66dc301f149d3d5abf8c   \n",
       "4      Furniture designer  06-07-1955  57ff021bd3f328f8738bb535c302a31b   \n",
       "\n",
       "    unix_time  merch_lat  merch_long  is_fraud  \n",
       "0  1371816865  33.986391  -81.200714         0  \n",
       "1  1371816873  39.450498 -109.960431         0  \n",
       "2  1371816893  40.495810  -74.196111         0  \n",
       "3  1371816915  28.812398  -80.883061         0  \n",
       "4  1371816917  44.959148  -85.884734         0  \n",
       "\n",
       "[5 rows x 22 columns]"
      ]
     },
     "execution_count": 3,
     "metadata": {},
     "output_type": "execute_result"
    }
   ],
   "source": [
    "# We are using Fraud_test dataset as a whole and dropping 1st column 'Unnamed' as it was irrelevant\n",
    "\n",
    "df = pd.read_csv('D:\\mini\\fraudTrain.csv')\n",
    "df = df.drop(df.columns[0], axis=1)\n",
    "df.head()"
   ]
  },
  {
   "cell_type": "markdown",
   "metadata": {},
   "source": [
    "### Inspecting Data "
   ]
  },
  {
   "cell_type": "code",
   "execution_count": null,
   "metadata": {},
   "outputs": [],
   "source": [
    "df[''.value_counts"
   ]
  },
  {
   "cell_type": "code",
   "execution_count": 3,
   "metadata": {},
   "outputs": [
    {
     "name": "stdout",
     "output_type": "stream",
     "text": [
      "<class 'pandas.core.frame.DataFrame'>\n",
      "RangeIndex: 555719 entries, 0 to 555718\n",
      "Data columns (total 22 columns):\n",
      " #   Column                 Non-Null Count   Dtype  \n",
      "---  ------                 --------------   -----  \n",
      " 0   trans_date_trans_time  555719 non-null  object \n",
      " 1   cc_num                 555719 non-null  int64  \n",
      " 2   merchant               555719 non-null  object \n",
      " 3   category               555719 non-null  object \n",
      " 4   amt                    555719 non-null  float64\n",
      " 5   first                  555719 non-null  object \n",
      " 6   last                   555719 non-null  object \n",
      " 7   gender                 555719 non-null  object \n",
      " 8   street                 555719 non-null  object \n",
      " 9   city                   555719 non-null  object \n",
      " 10  state                  555719 non-null  object \n",
      " 11  zip                    555719 non-null  int64  \n",
      " 12  lat                    555719 non-null  float64\n",
      " 13  long                   555719 non-null  float64\n",
      " 14  city_pop               555719 non-null  int64  \n",
      " 15  job                    555719 non-null  object \n",
      " 16  dob                    555719 non-null  object \n",
      " 17  trans_num              555719 non-null  object \n",
      " 18  unix_time              555719 non-null  int64  \n",
      " 19  merch_lat              555719 non-null  float64\n",
      " 20  merch_long             555719 non-null  float64\n",
      " 21  is_fraud               555719 non-null  int64  \n",
      "dtypes: float64(5), int64(5), object(12)\n",
      "memory usage: 93.3+ MB\n"
     ]
    }
   ],
   "source": [
    "df.info()"
   ]
  },
  {
   "cell_type": "code",
   "execution_count": 4,
   "metadata": {},
   "outputs": [
    {
     "data": {
      "text/html": [
       "<div>\n",
       "<style scoped>\n",
       "    .dataframe tbody tr th:only-of-type {\n",
       "        vertical-align: middle;\n",
       "    }\n",
       "\n",
       "    .dataframe tbody tr th {\n",
       "        vertical-align: top;\n",
       "    }\n",
       "\n",
       "    .dataframe thead th {\n",
       "        text-align: right;\n",
       "    }\n",
       "</style>\n",
       "<table border=\"1\" class=\"dataframe\">\n",
       "  <thead>\n",
       "    <tr style=\"text-align: right;\">\n",
       "      <th></th>\n",
       "      <th>cc_num</th>\n",
       "      <th>amt</th>\n",
       "      <th>zip</th>\n",
       "      <th>lat</th>\n",
       "      <th>long</th>\n",
       "      <th>city_pop</th>\n",
       "      <th>unix_time</th>\n",
       "      <th>merch_lat</th>\n",
       "      <th>merch_long</th>\n",
       "      <th>is_fraud</th>\n",
       "    </tr>\n",
       "  </thead>\n",
       "  <tbody>\n",
       "    <tr>\n",
       "      <th>count</th>\n",
       "      <td>5.557190e+05</td>\n",
       "      <td>555719.000000</td>\n",
       "      <td>555719.000000</td>\n",
       "      <td>555719.000000</td>\n",
       "      <td>555719.000000</td>\n",
       "      <td>5.557190e+05</td>\n",
       "      <td>5.557190e+05</td>\n",
       "      <td>555719.000000</td>\n",
       "      <td>555719.000000</td>\n",
       "      <td>555719.000000</td>\n",
       "    </tr>\n",
       "    <tr>\n",
       "      <th>mean</th>\n",
       "      <td>4.178387e+17</td>\n",
       "      <td>69.392810</td>\n",
       "      <td>48842.628015</td>\n",
       "      <td>38.543253</td>\n",
       "      <td>-90.231325</td>\n",
       "      <td>8.822189e+04</td>\n",
       "      <td>1.380679e+09</td>\n",
       "      <td>38.542798</td>\n",
       "      <td>-90.231380</td>\n",
       "      <td>0.003860</td>\n",
       "    </tr>\n",
       "    <tr>\n",
       "      <th>std</th>\n",
       "      <td>1.309837e+18</td>\n",
       "      <td>156.745941</td>\n",
       "      <td>26855.283328</td>\n",
       "      <td>5.061336</td>\n",
       "      <td>13.721780</td>\n",
       "      <td>3.003909e+05</td>\n",
       "      <td>5.201104e+06</td>\n",
       "      <td>5.095829</td>\n",
       "      <td>13.733071</td>\n",
       "      <td>0.062008</td>\n",
       "    </tr>\n",
       "    <tr>\n",
       "      <th>min</th>\n",
       "      <td>6.041621e+10</td>\n",
       "      <td>1.000000</td>\n",
       "      <td>1257.000000</td>\n",
       "      <td>20.027100</td>\n",
       "      <td>-165.672300</td>\n",
       "      <td>2.300000e+01</td>\n",
       "      <td>1.371817e+09</td>\n",
       "      <td>19.027422</td>\n",
       "      <td>-166.671575</td>\n",
       "      <td>0.000000</td>\n",
       "    </tr>\n",
       "    <tr>\n",
       "      <th>25%</th>\n",
       "      <td>1.800429e+14</td>\n",
       "      <td>9.630000</td>\n",
       "      <td>26292.000000</td>\n",
       "      <td>34.668900</td>\n",
       "      <td>-96.798000</td>\n",
       "      <td>7.410000e+02</td>\n",
       "      <td>1.376029e+09</td>\n",
       "      <td>34.755302</td>\n",
       "      <td>-96.905129</td>\n",
       "      <td>0.000000</td>\n",
       "    </tr>\n",
       "    <tr>\n",
       "      <th>50%</th>\n",
       "      <td>3.521417e+15</td>\n",
       "      <td>47.290000</td>\n",
       "      <td>48174.000000</td>\n",
       "      <td>39.371600</td>\n",
       "      <td>-87.476900</td>\n",
       "      <td>2.408000e+03</td>\n",
       "      <td>1.380762e+09</td>\n",
       "      <td>39.376593</td>\n",
       "      <td>-87.445204</td>\n",
       "      <td>0.000000</td>\n",
       "    </tr>\n",
       "    <tr>\n",
       "      <th>75%</th>\n",
       "      <td>4.635331e+15</td>\n",
       "      <td>83.010000</td>\n",
       "      <td>72011.000000</td>\n",
       "      <td>41.894800</td>\n",
       "      <td>-80.175200</td>\n",
       "      <td>1.968500e+04</td>\n",
       "      <td>1.385867e+09</td>\n",
       "      <td>41.954163</td>\n",
       "      <td>-80.264637</td>\n",
       "      <td>0.000000</td>\n",
       "    </tr>\n",
       "    <tr>\n",
       "      <th>max</th>\n",
       "      <td>4.992346e+18</td>\n",
       "      <td>22768.110000</td>\n",
       "      <td>99921.000000</td>\n",
       "      <td>65.689900</td>\n",
       "      <td>-67.950300</td>\n",
       "      <td>2.906700e+06</td>\n",
       "      <td>1.388534e+09</td>\n",
       "      <td>66.679297</td>\n",
       "      <td>-66.952026</td>\n",
       "      <td>1.000000</td>\n",
       "    </tr>\n",
       "  </tbody>\n",
       "</table>\n",
       "</div>"
      ],
      "text/plain": [
       "             cc_num            amt            zip            lat  \\\n",
       "count  5.557190e+05  555719.000000  555719.000000  555719.000000   \n",
       "mean   4.178387e+17      69.392810   48842.628015      38.543253   \n",
       "std    1.309837e+18     156.745941   26855.283328       5.061336   \n",
       "min    6.041621e+10       1.000000    1257.000000      20.027100   \n",
       "25%    1.800429e+14       9.630000   26292.000000      34.668900   \n",
       "50%    3.521417e+15      47.290000   48174.000000      39.371600   \n",
       "75%    4.635331e+15      83.010000   72011.000000      41.894800   \n",
       "max    4.992346e+18   22768.110000   99921.000000      65.689900   \n",
       "\n",
       "                long      city_pop     unix_time      merch_lat  \\\n",
       "count  555719.000000  5.557190e+05  5.557190e+05  555719.000000   \n",
       "mean      -90.231325  8.822189e+04  1.380679e+09      38.542798   \n",
       "std        13.721780  3.003909e+05  5.201104e+06       5.095829   \n",
       "min      -165.672300  2.300000e+01  1.371817e+09      19.027422   \n",
       "25%       -96.798000  7.410000e+02  1.376029e+09      34.755302   \n",
       "50%       -87.476900  2.408000e+03  1.380762e+09      39.376593   \n",
       "75%       -80.175200  1.968500e+04  1.385867e+09      41.954163   \n",
       "max       -67.950300  2.906700e+06  1.388534e+09      66.679297   \n",
       "\n",
       "          merch_long       is_fraud  \n",
       "count  555719.000000  555719.000000  \n",
       "mean      -90.231380       0.003860  \n",
       "std        13.733071       0.062008  \n",
       "min      -166.671575       0.000000  \n",
       "25%       -96.905129       0.000000  \n",
       "50%       -87.445204       0.000000  \n",
       "75%       -80.264637       0.000000  \n",
       "max       -66.952026       1.000000  "
      ]
     },
     "execution_count": 4,
     "metadata": {},
     "output_type": "execute_result"
    }
   ],
   "source": [
    "df.describe()"
   ]
  },
  {
   "cell_type": "code",
   "execution_count": 5,
   "metadata": {
    "scrolled": true
   },
   "outputs": [
    {
     "data": {
      "text/plain": [
       "trans_date_trans_time    0\n",
       "cc_num                   0\n",
       "merchant                 0\n",
       "category                 0\n",
       "amt                      0\n",
       "first                    0\n",
       "last                     0\n",
       "gender                   0\n",
       "street                   0\n",
       "city                     0\n",
       "state                    0\n",
       "zip                      0\n",
       "lat                      0\n",
       "long                     0\n",
       "city_pop                 0\n",
       "job                      0\n",
       "dob                      0\n",
       "trans_num                0\n",
       "unix_time                0\n",
       "merch_lat                0\n",
       "merch_long               0\n",
       "is_fraud                 0\n",
       "dtype: int64"
      ]
     },
     "execution_count": 5,
     "metadata": {},
     "output_type": "execute_result"
    }
   ],
   "source": [
    "#Checking null values\n",
    "df.isnull().sum()"
   ]
  },
  {
   "cell_type": "markdown",
   "metadata": {},
   "source": [
    "#### No Null values in our data"
   ]
  },
  {
   "cell_type": "code",
   "execution_count": 5,
   "metadata": {},
   "outputs": [
    {
     "data": {
      "text/plain": [
       "(555719, 22)"
      ]
     },
     "execution_count": 5,
     "metadata": {},
     "output_type": "execute_result"
    }
   ],
   "source": [
    "df.shape"
   ]
  },
  {
   "cell_type": "markdown",
   "metadata": {},
   "source": [
    "### Distribution of Dependent Variable"
   ]
  },
  {
   "cell_type": "code",
   "execution_count": 4,
   "metadata": {},
   "outputs": [
    {
     "data": {
      "text/plain": [
       "0    553574\n",
       "1      2145\n",
       "Name: is_fraud, dtype: int64"
      ]
     },
     "execution_count": 4,
     "metadata": {},
     "output_type": "execute_result"
    }
   ],
   "source": [
    "df['is_fraud'].value_counts()"
   ]
  },
  {
   "cell_type": "code",
   "execution_count": 6,
   "metadata": {},
   "outputs": [
    {
     "data": {
      "text/plain": [
       "0    99.614014\n",
       "1     0.385986\n",
       "Name: is_fraud, dtype: float64"
      ]
     },
     "execution_count": 6,
     "metadata": {},
     "output_type": "execute_result"
    }
   ],
   "source": [
    "df['is_fraud'].value_counts(normalize=True)*100"
   ]
  },
  {
   "cell_type": "markdown",
   "metadata": {},
   "source": [
    "This is highly imbalanced class data, so later we need to balance the dependent variable"
   ]
  },
  {
   "cell_type": "code",
   "execution_count": 8,
   "metadata": {},
   "outputs": [
    {
     "data": {
      "text/plain": [
       "trans_date_trans_time    544760\n",
       "cc_num                      924\n",
       "merchant                    693\n",
       "category                     14\n",
       "amt                       37256\n",
       "first                       341\n",
       "last                        471\n",
       "gender                        2\n",
       "street                      924\n",
       "city                        849\n",
       "state                        50\n",
       "zip                         912\n",
       "lat                         910\n",
       "long                        910\n",
       "city_pop                    835\n",
       "job                         478\n",
       "dob                         910\n",
       "trans_num                555719\n",
       "unix_time                544760\n",
       "merch_lat                546490\n",
       "merch_long               551770\n",
       "is_fraud                      2\n",
       "dtype: int64"
      ]
     },
     "execution_count": 8,
     "metadata": {},
     "output_type": "execute_result"
    }
   ],
   "source": [
    "#Finding unique values in each column\n",
    "df.nunique()"
   ]
  },
  {
   "cell_type": "markdown",
   "metadata": {},
   "source": [
    "### Converting data type of trans_date_trans_time to datetime"
   ]
  },
  {
   "cell_type": "code",
   "execution_count": 9,
   "metadata": {},
   "outputs": [],
   "source": [
    "df['trans_date_trans_time'] = pd.to_datetime(df['trans_date_trans_time'])"
   ]
  },
  {
   "cell_type": "code",
   "execution_count": 8,
   "metadata": {},
   "outputs": [
    {
     "data": {
      "text/plain": [
       "dtype('<M8[ns]')"
      ]
     },
     "execution_count": 8,
     "metadata": {},
     "output_type": "execute_result"
    }
   ],
   "source": [
    "df.dtypes['trans_date_trans_time']"
   ]
  },
  {
   "cell_type": "markdown",
   "metadata": {},
   "source": [
    "### Deriving 'Transaction Hour' Feature from 'Transaction Time' Feature"
   ]
  },
  {
   "cell_type": "code",
   "execution_count": 10,
   "metadata": {},
   "outputs": [
    {
     "data": {
      "text/plain": [
       "0         12\n",
       "1         12\n",
       "2         12\n",
       "3         12\n",
       "4         12\n",
       "          ..\n",
       "555714    23\n",
       "555715    23\n",
       "555716    23\n",
       "555717    23\n",
       "555718    23\n",
       "Name: trans_hour, Length: 555719, dtype: int64"
      ]
     },
     "execution_count": 10,
     "metadata": {},
     "output_type": "execute_result"
    }
   ],
   "source": [
    "df['trans_hour'] = df['trans_date_trans_time'].dt.hour\n",
    "df['trans_hour']"
   ]
  },
  {
   "cell_type": "markdown",
   "metadata": {},
   "source": [
    "### Deriving 'Day of Week' Feature from 'Transaction Time' Feature"
   ]
  },
  {
   "cell_type": "code",
   "execution_count": 11,
   "metadata": {},
   "outputs": [
    {
     "data": {
      "text/plain": [
       "0           Sunday\n",
       "1           Sunday\n",
       "2           Sunday\n",
       "3           Sunday\n",
       "4           Sunday\n",
       "            ...   \n",
       "555714    Thursday\n",
       "555715    Thursday\n",
       "555716    Thursday\n",
       "555717    Thursday\n",
       "555718    Thursday\n",
       "Name: day_of_week, Length: 555719, dtype: object"
      ]
     },
     "execution_count": 11,
     "metadata": {},
     "output_type": "execute_result"
    }
   ],
   "source": [
    "df['day_of_week'] = df['trans_date_trans_time'].dt.day_name()\n",
    "df['day_of_week']"
   ]
  },
  {
   "cell_type": "code",
   "execution_count": 13,
   "metadata": {},
   "outputs": [
    {
     "data": {
      "text/html": [
       "<div>\n",
       "<style scoped>\n",
       "    .dataframe tbody tr th:only-of-type {\n",
       "        vertical-align: middle;\n",
       "    }\n",
       "\n",
       "    .dataframe tbody tr th {\n",
       "        vertical-align: top;\n",
       "    }\n",
       "\n",
       "    .dataframe thead th {\n",
       "        text-align: right;\n",
       "    }\n",
       "</style>\n",
       "<table border=\"1\" class=\"dataframe\">\n",
       "  <thead>\n",
       "    <tr style=\"text-align: right;\">\n",
       "      <th></th>\n",
       "      <th>trans_date_trans_time</th>\n",
       "      <th>cc_num</th>\n",
       "      <th>merchant</th>\n",
       "      <th>category</th>\n",
       "      <th>amt</th>\n",
       "      <th>first</th>\n",
       "      <th>last</th>\n",
       "      <th>gender</th>\n",
       "      <th>street</th>\n",
       "      <th>city</th>\n",
       "      <th>...</th>\n",
       "      <th>city_pop</th>\n",
       "      <th>job</th>\n",
       "      <th>dob</th>\n",
       "      <th>trans_num</th>\n",
       "      <th>unix_time</th>\n",
       "      <th>merch_lat</th>\n",
       "      <th>merch_long</th>\n",
       "      <th>is_fraud</th>\n",
       "      <th>trans_hour</th>\n",
       "      <th>day_of_week</th>\n",
       "    </tr>\n",
       "  </thead>\n",
       "  <tbody>\n",
       "    <tr>\n",
       "      <th>0</th>\n",
       "      <td>2020-06-21 12:14:25</td>\n",
       "      <td>2291163933867244</td>\n",
       "      <td>fraud_Kirlin and Sons</td>\n",
       "      <td>personal_care</td>\n",
       "      <td>2.86</td>\n",
       "      <td>Jeff</td>\n",
       "      <td>Elliott</td>\n",
       "      <td>M</td>\n",
       "      <td>351 Darlene Green</td>\n",
       "      <td>Columbia</td>\n",
       "      <td>...</td>\n",
       "      <td>333497</td>\n",
       "      <td>Mechanical engineer</td>\n",
       "      <td>1968-03-19</td>\n",
       "      <td>2da90c7d74bd46a0caf3777415b3ebd3</td>\n",
       "      <td>1371816865</td>\n",
       "      <td>33.986391</td>\n",
       "      <td>-81.200714</td>\n",
       "      <td>0</td>\n",
       "      <td>12</td>\n",
       "      <td>Sunday</td>\n",
       "    </tr>\n",
       "    <tr>\n",
       "      <th>1</th>\n",
       "      <td>2020-06-21 12:14:33</td>\n",
       "      <td>3573030041201292</td>\n",
       "      <td>fraud_Sporer-Keebler</td>\n",
       "      <td>personal_care</td>\n",
       "      <td>29.84</td>\n",
       "      <td>Joanne</td>\n",
       "      <td>Williams</td>\n",
       "      <td>F</td>\n",
       "      <td>3638 Marsh Union</td>\n",
       "      <td>Altonah</td>\n",
       "      <td>...</td>\n",
       "      <td>302</td>\n",
       "      <td>Sales professional, IT</td>\n",
       "      <td>1990-01-17</td>\n",
       "      <td>324cc204407e99f51b0d6ca0055005e7</td>\n",
       "      <td>1371816873</td>\n",
       "      <td>39.450498</td>\n",
       "      <td>-109.960431</td>\n",
       "      <td>0</td>\n",
       "      <td>12</td>\n",
       "      <td>Sunday</td>\n",
       "    </tr>\n",
       "    <tr>\n",
       "      <th>2</th>\n",
       "      <td>2020-06-21 12:14:53</td>\n",
       "      <td>3598215285024754</td>\n",
       "      <td>fraud_Swaniawski, Nitzsche and Welch</td>\n",
       "      <td>health_fitness</td>\n",
       "      <td>41.28</td>\n",
       "      <td>Ashley</td>\n",
       "      <td>Lopez</td>\n",
       "      <td>F</td>\n",
       "      <td>9333 Valentine Point</td>\n",
       "      <td>Bellmore</td>\n",
       "      <td>...</td>\n",
       "      <td>34496</td>\n",
       "      <td>Librarian, public</td>\n",
       "      <td>1970-10-21</td>\n",
       "      <td>c81755dbbbea9d5c77f094348a7579be</td>\n",
       "      <td>1371816893</td>\n",
       "      <td>40.495810</td>\n",
       "      <td>-74.196111</td>\n",
       "      <td>0</td>\n",
       "      <td>12</td>\n",
       "      <td>Sunday</td>\n",
       "    </tr>\n",
       "    <tr>\n",
       "      <th>3</th>\n",
       "      <td>2020-06-21 12:15:15</td>\n",
       "      <td>3591919803438423</td>\n",
       "      <td>fraud_Haley Group</td>\n",
       "      <td>misc_pos</td>\n",
       "      <td>60.05</td>\n",
       "      <td>Brian</td>\n",
       "      <td>Williams</td>\n",
       "      <td>M</td>\n",
       "      <td>32941 Krystal Mill Apt. 552</td>\n",
       "      <td>Titusville</td>\n",
       "      <td>...</td>\n",
       "      <td>54767</td>\n",
       "      <td>Set designer</td>\n",
       "      <td>1987-07-25</td>\n",
       "      <td>2159175b9efe66dc301f149d3d5abf8c</td>\n",
       "      <td>1371816915</td>\n",
       "      <td>28.812398</td>\n",
       "      <td>-80.883061</td>\n",
       "      <td>0</td>\n",
       "      <td>12</td>\n",
       "      <td>Sunday</td>\n",
       "    </tr>\n",
       "    <tr>\n",
       "      <th>4</th>\n",
       "      <td>2020-06-21 12:15:17</td>\n",
       "      <td>3526826139003047</td>\n",
       "      <td>fraud_Johnston-Casper</td>\n",
       "      <td>travel</td>\n",
       "      <td>3.19</td>\n",
       "      <td>Nathan</td>\n",
       "      <td>Massey</td>\n",
       "      <td>M</td>\n",
       "      <td>5783 Evan Roads Apt. 465</td>\n",
       "      <td>Falmouth</td>\n",
       "      <td>...</td>\n",
       "      <td>1126</td>\n",
       "      <td>Furniture designer</td>\n",
       "      <td>1955-07-06</td>\n",
       "      <td>57ff021bd3f328f8738bb535c302a31b</td>\n",
       "      <td>1371816917</td>\n",
       "      <td>44.959148</td>\n",
       "      <td>-85.884734</td>\n",
       "      <td>0</td>\n",
       "      <td>12</td>\n",
       "      <td>Sunday</td>\n",
       "    </tr>\n",
       "  </tbody>\n",
       "</table>\n",
       "<p>5 rows × 24 columns</p>\n",
       "</div>"
      ],
      "text/plain": [
       "  trans_date_trans_time            cc_num  \\\n",
       "0   2020-06-21 12:14:25  2291163933867244   \n",
       "1   2020-06-21 12:14:33  3573030041201292   \n",
       "2   2020-06-21 12:14:53  3598215285024754   \n",
       "3   2020-06-21 12:15:15  3591919803438423   \n",
       "4   2020-06-21 12:15:17  3526826139003047   \n",
       "\n",
       "                               merchant        category    amt   first  \\\n",
       "0                 fraud_Kirlin and Sons   personal_care   2.86    Jeff   \n",
       "1                  fraud_Sporer-Keebler   personal_care  29.84  Joanne   \n",
       "2  fraud_Swaniawski, Nitzsche and Welch  health_fitness  41.28  Ashley   \n",
       "3                     fraud_Haley Group        misc_pos  60.05   Brian   \n",
       "4                 fraud_Johnston-Casper          travel   3.19  Nathan   \n",
       "\n",
       "       last gender                       street        city  ... city_pop  \\\n",
       "0   Elliott      M            351 Darlene Green    Columbia  ...   333497   \n",
       "1  Williams      F             3638 Marsh Union     Altonah  ...      302   \n",
       "2     Lopez      F         9333 Valentine Point    Bellmore  ...    34496   \n",
       "3  Williams      M  32941 Krystal Mill Apt. 552  Titusville  ...    54767   \n",
       "4    Massey      M     5783 Evan Roads Apt. 465    Falmouth  ...     1126   \n",
       "\n",
       "                      job         dob                         trans_num  \\\n",
       "0     Mechanical engineer  1968-03-19  2da90c7d74bd46a0caf3777415b3ebd3   \n",
       "1  Sales professional, IT  1990-01-17  324cc204407e99f51b0d6ca0055005e7   \n",
       "2       Librarian, public  1970-10-21  c81755dbbbea9d5c77f094348a7579be   \n",
       "3            Set designer  1987-07-25  2159175b9efe66dc301f149d3d5abf8c   \n",
       "4      Furniture designer  1955-07-06  57ff021bd3f328f8738bb535c302a31b   \n",
       "\n",
       "    unix_time  merch_lat  merch_long is_fraud  trans_hour  day_of_week  \n",
       "0  1371816865  33.986391  -81.200714        0          12       Sunday  \n",
       "1  1371816873  39.450498 -109.960431        0          12       Sunday  \n",
       "2  1371816893  40.495810  -74.196111        0          12       Sunday  \n",
       "3  1371816915  28.812398  -80.883061        0          12       Sunday  \n",
       "4  1371816917  44.959148  -85.884734        0          12       Sunday  \n",
       "\n",
       "[5 rows x 24 columns]"
      ]
     },
     "execution_count": 13,
     "metadata": {},
     "output_type": "execute_result"
    }
   ],
   "source": [
    "df.head()"
   ]
  },
  {
   "cell_type": "markdown",
   "metadata": {},
   "source": [
    "### Deriving 'Year Month' Feature from 'Transaction Time' Feature\n"
   ]
  },
  {
   "cell_type": "code",
   "execution_count": 12,
   "metadata": {},
   "outputs": [
    {
     "data": {
      "text/plain": [
       "0         2020-06\n",
       "1         2020-06\n",
       "2         2020-06\n",
       "3         2020-06\n",
       "4         2020-06\n",
       "           ...   \n",
       "555714    2020-12\n",
       "555715    2020-12\n",
       "555716    2020-12\n",
       "555717    2020-12\n",
       "555718    2020-12\n",
       "Name: year_month, Length: 555719, dtype: period[M]"
      ]
     },
     "execution_count": 12,
     "metadata": {},
     "output_type": "execute_result"
    }
   ],
   "source": [
    "df['year_month'] = df['trans_date_trans_time'].dt.to_period('M')\n",
    "df['year_month']"
   ]
  },
  {
   "cell_type": "code",
   "execution_count": 13,
   "metadata": {},
   "outputs": [
    {
     "data": {
      "image/png": "[encoded data removed]",
      "text/plain": [
       "<Figure size 1080x576 with 2 Axes>"
      ]
     },
     "metadata": {
      "needs_background": "light"
     },
     "output_type": "display_data"
    }
   ],
   "source": [
    "plt.figure(figsize=(15,8))\n",
    "plt.subplot(1,2,1)\n",
    "df['category'].value_counts().plot.bar();\n",
    "plt.subplot(1,2,2)\n",
    "df['day_of_week'].value_counts().plot.bar();\n"
   ]
  },
  {
   "cell_type": "markdown",
   "metadata": {},
   "source": [
    "- Monday and Tuesday of the week have highest credit card transactions\n",
    "- gas_transport and grocery_pos have highest credit card transactions"
   ]
  },
  {
   "cell_type": "code",
   "execution_count": 14,
   "metadata": {},
   "outputs": [
    {
     "data": {
      "image/png": "[encoded data removed]",
      "text/plain": [
       "<Figure size 1440x576 with 2 Axes>"
      ]
     },
     "metadata": {
      "needs_background": "light"
     },
     "output_type": "display_data"
    }
   ],
   "source": [
    "plt.figure(figsize=(20,8))\n",
    "plt.subplot(1,2,1)\n",
    "df['gender'].value_counts().plot.bar();\n",
    "plt.subplot(1,2,2)\n",
    "df['year_month'].value_counts().plot.bar();\n"
   ]
  },
  {
   "cell_type": "markdown",
   "metadata": {},
   "source": [
    "- Highest number of Transactions are in month of December and Lowest number of Transactions happened in June "
   ]
  },
  {
   "cell_type": "raw",
   "metadata": {},
   "source": []
  },
  {
   "cell_type": "markdown",
   "metadata": {},
   "source": [
    "### Derive Age of the Customer: \n",
    "\n",
    "Age of Customer = Transaction Date - DOB"
   ]
  },
  {
   "cell_type": "code",
   "execution_count": 15,
   "metadata": {},
   "outputs": [
    {
     "data": {
      "text/plain": [
       "count    555719.000000\n",
       "mean         46.797934\n",
       "std          17.433413\n",
       "min          15.000000\n",
       "25%          33.000000\n",
       "50%          45.000000\n",
       "75%          58.000000\n",
       "max          96.000000\n",
       "Name: age, dtype: float64"
      ]
     },
     "execution_count": 15,
     "metadata": {},
     "output_type": "execute_result"
    }
   ],
   "source": [
    "df['dob'] = pd.to_datetime(df['dob'])\n",
    "df['age'] = np.round((df['trans_date_trans_time'] - df['dob'])/np.timedelta64(1,'Y'))\n",
    "df['age'].describe()"
   ]
  },
  {
   "cell_type": "code",
   "execution_count": 16,
   "metadata": {},
   "outputs": [
    {
     "name": "stdout",
     "output_type": "stream",
     "text": [
      "Minimum age of customer is 15.0\n",
      "Maximum age of customer is 96.0\n"
     ]
    }
   ],
   "source": [
    "## 33-58 aged people are 50% of our customers\n",
    "\n",
    "print(\"Minimum age of customer is\", df['age'].min())\n",
    "print(\"Maximum age of customer is\", df['age'].max())"
   ]
  },
  {
   "cell_type": "markdown",
   "metadata": {},
   "source": [
    "### Deriving counts for each state and Job category"
   ]
  },
  {
   "cell_type": "code",
   "execution_count": 19,
   "metadata": {},
   "outputs": [
    {
     "data": {
      "text/plain": [
       "TX    40393\n",
       "NY    35918\n",
       "PA    34326\n",
       "CA    24135\n",
       "OH    20147\n",
       "MI    19671\n",
       "IL    18960\n",
       "FL    18104\n",
       "AL    17532\n",
       "MO    16501\n",
       "MN    13719\n",
       "AR    13484\n",
       "NC    12868\n",
       "SC    12541\n",
       "VA    12506\n",
       "KY    12506\n",
       "WI    12370\n",
       "IN    11959\n",
       "IA    11819\n",
       "OK    11379\n",
       "GA    11277\n",
       "MD    11152\n",
       "WV    10838\n",
       "NJ    10528\n",
       "NE    10257\n",
       "KS     9943\n",
       "LA     8988\n",
       "MS     8833\n",
       "WY     8454\n",
       "WA     8116\n",
       "OR     7811\n",
       "TN     7359\n",
       "NM     7020\n",
       "ME     6928\n",
       "ND     6397\n",
       "CO     5886\n",
       "SD     5250\n",
       "MA     5186\n",
       "MT     5052\n",
       "VT     5044\n",
       "UT     4658\n",
       "AZ     4592\n",
       "NH     3449\n",
       "CT     3277\n",
       "ID     2490\n",
       "NV     2451\n",
       "DC     1517\n",
       "HI     1090\n",
       "AK      843\n",
       "RI      195\n",
       "Name: state, dtype: int64"
      ]
     },
     "execution_count": 19,
     "metadata": {},
     "output_type": "execute_result"
    }
   ],
   "source": [
    "df.state.value_counts()"
   ]
  },
  {
   "cell_type": "code",
   "execution_count": 20,
   "metadata": {},
   "outputs": [
    {
     "data": {
      "text/plain": [
       "Film/video editor                4119\n",
       "Exhibition designer              3968\n",
       "Surveyor, land/geomatics         3756\n",
       "Naval architect                  3750\n",
       "Designer, ceramics/pottery       3463\n",
       "                                 ... \n",
       "Merchandiser, retail              195\n",
       "Engineer, civil (consulting)      194\n",
       "Operational investment banker      11\n",
       "Software engineer                  11\n",
       "Engineer, water                     8\n",
       "Name: job, Length: 478, dtype: int64"
      ]
     },
     "execution_count": 20,
     "metadata": {},
     "output_type": "execute_result"
    }
   ],
   "source": [
    "df.job.value_counts()"
   ]
  },
  {
   "cell_type": "raw",
   "metadata": {},
   "source": []
  },
  {
   "cell_type": "markdown",
   "metadata": {},
   "source": [
    "##### Distribution of amt"
   ]
  },
  {
   "cell_type": "code",
   "execution_count": 17,
   "metadata": {},
   "outputs": [
    {
     "data": {
      "text/html": [
       "<div>\n",
       "<style scoped>\n",
       "    .dataframe tbody tr th:only-of-type {\n",
       "        vertical-align: middle;\n",
       "    }\n",
       "\n",
       "    .dataframe tbody tr th {\n",
       "        vertical-align: top;\n",
       "    }\n",
       "\n",
       "    .dataframe thead th {\n",
       "        text-align: right;\n",
       "    }\n",
       "</style>\n",
       "<table border=\"1\" class=\"dataframe\">\n",
       "  <thead>\n",
       "    <tr style=\"text-align: right;\">\n",
       "      <th></th>\n",
       "      <th>Row Type</th>\n",
       "      <th>Overall Amount Distribution</th>\n",
       "      <th>Non Fraud Amount Distribution</th>\n",
       "      <th>Fraud Amount Distribution</th>\n",
       "    </tr>\n",
       "  </thead>\n",
       "  <tbody>\n",
       "    <tr>\n",
       "      <th>0</th>\n",
       "      <td>count</td>\n",
       "      <td>555719.000000</td>\n",
       "      <td>553574.000000</td>\n",
       "      <td>2145.000000</td>\n",
       "    </tr>\n",
       "    <tr>\n",
       "      <th>1</th>\n",
       "      <td>mean</td>\n",
       "      <td>69.392810</td>\n",
       "      <td>67.614408</td>\n",
       "      <td>528.356494</td>\n",
       "    </tr>\n",
       "    <tr>\n",
       "      <th>2</th>\n",
       "      <td>std</td>\n",
       "      <td>156.745941</td>\n",
       "      <td>152.471931</td>\n",
       "      <td>392.747594</td>\n",
       "    </tr>\n",
       "    <tr>\n",
       "      <th>3</th>\n",
       "      <td>min</td>\n",
       "      <td>1.000000</td>\n",
       "      <td>1.000000</td>\n",
       "      <td>1.780000</td>\n",
       "    </tr>\n",
       "    <tr>\n",
       "      <th>4</th>\n",
       "      <td>50%</td>\n",
       "      <td>47.290000</td>\n",
       "      <td>47.150000</td>\n",
       "      <td>371.940000</td>\n",
       "    </tr>\n",
       "    <tr>\n",
       "      <th>5</th>\n",
       "      <td>95%</td>\n",
       "      <td>193.051000</td>\n",
       "      <td>188.870000</td>\n",
       "      <td>1084.108000</td>\n",
       "    </tr>\n",
       "    <tr>\n",
       "      <th>6</th>\n",
       "      <td>99.9%</td>\n",
       "      <td>1572.723500</td>\n",
       "      <td>1575.960200</td>\n",
       "      <td>1311.443760</td>\n",
       "    </tr>\n",
       "    <tr>\n",
       "      <th>7</th>\n",
       "      <td>max</td>\n",
       "      <td>22768.110000</td>\n",
       "      <td>22768.110000</td>\n",
       "      <td>1320.920000</td>\n",
       "    </tr>\n",
       "  </tbody>\n",
       "</table>\n",
       "</div>"
      ],
      "text/plain": [
       "  Row Type  Overall Amount Distribution  Non Fraud Amount Distribution  \\\n",
       "0    count                555719.000000                  553574.000000   \n",
       "1     mean                    69.392810                      67.614408   \n",
       "2      std                   156.745941                     152.471931   \n",
       "3      min                     1.000000                       1.000000   \n",
       "4      50%                    47.290000                      47.150000   \n",
       "5      95%                   193.051000                     188.870000   \n",
       "6    99.9%                  1572.723500                    1575.960200   \n",
       "7      max                 22768.110000                   22768.110000   \n",
       "\n",
       "   Fraud Amount Distribution  \n",
       "0                2145.000000  \n",
       "1                 528.356494  \n",
       "2                 392.747594  \n",
       "3                   1.780000  \n",
       "4                 371.940000  \n",
       "5                1084.108000  \n",
       "6                1311.443760  \n",
       "7                1320.920000  "
      ]
     },
     "execution_count": 17,
     "metadata": {},
     "output_type": "execute_result"
    }
   ],
   "source": [
    "pd.concat(\n",
    "[df['amt'].describe(percentiles = [0.5,0.95,0.999])\\\n",
    ".reset_index().rename(columns={'index': 'Row Type', 'amt':'Overall Amount Distribution'}),\n",
    "df.loc[df['is_fraud']==0,['amt']].describe(percentiles = [0.5,0.95,0.999])\\\n",
    ".reset_index(drop = 1).rename(columns={'amt':'Non Fraud Amount Distribution'}),\n",
    "df.loc[df['is_fraud']==1,['amt']].describe(percentiles = [0.5,0.95,0.999])\\\n",
    ".reset_index(drop = 1).rename(columns={'amt':'Fraud Amount Distribution'})],\n",
    "axis=1\n",
    ")"
   ]
  },
  {
   "cell_type": "markdown",
   "metadata": {},
   "source": [
    "Fraud Transaction mean is way higher than non-fraud transaction\n",
    "\n",
    "Mean of Non Fraud Transactions: 67.6\n",
    "\n",
    "Mean of Fraud Transactions: 528.3"
   ]
  },
  {
   "cell_type": "code",
   "execution_count": 18,
   "metadata": {},
   "outputs": [
    {
     "data": {
      "image/png": "[encoded data removed]",
      "text/plain": [
       "<Figure size 432x288 with 1 Axes>"
      ]
     },
     "metadata": {
      "needs_background": "light"
     },
     "output_type": "display_data"
    }
   ],
   "source": [
    "plt.hist(df[df['amt']<=1500]['amt'], bins=50)\n",
    "plt.title('Overall Amount Distribution');\n",
    "\n",
    "plt.xlabel('Transaction Amount')\n",
    "plt.ylabel('No. of Transactions')\n",
    "\n",
    "plt.show();"
   ]
  },
  {
   "cell_type": "code",
   "execution_count": 19,
   "metadata": {},
   "outputs": [
    {
     "data": {
      "image/png": "[encoded data removed]",
      "text/plain": [
       "<Figure size 432x288 with 1 Axes>"
      ]
     },
     "metadata": {
      "needs_background": "light"
     },
     "output_type": "display_data"
    }
   ],
   "source": [
    "plt.hist(df[(df['is_fraud']==0) & (df['amt']<=1500)]['amt'], bins=50)\n",
    "plt.title('Non Fraud Amt Distribution');\n",
    "\n",
    "plt.xlabel('Transaction Amount')\n",
    "plt.ylabel('No. of Transactions')\n",
    "\n",
    "plt.show();"
   ]
  },
  {
   "cell_type": "code",
   "execution_count": 20,
   "metadata": {},
   "outputs": [
    {
     "data": {
      "image/png": "[encoded data removed]",
      "text/plain": [
       "<Figure size 432x288 with 1 Axes>"
      ]
     },
     "metadata": {
      "needs_background": "light"
     },
     "output_type": "display_data"
    }
   ],
   "source": [
    "plt.hist(df[(df['is_fraud']==1) & (df['amt']<=1500)]['amt'], bins=50)\n",
    "plt.title('Fraud Amt Distribution')\n",
    "\n",
    "plt.xlabel('Transaction Amount')\n",
    "plt.ylabel('No. of Transactions')\n",
    "\n",
    "plt.show();"
   ]
  },
  {
   "cell_type": "code",
   "execution_count": 25,
   "metadata": {},
   "outputs": [
    {
     "data": {
      "text/plain": [
       "<AxesSubplot:xlabel='amt'>"
      ]
     },
     "execution_count": 25,
     "metadata": {},
     "output_type": "execute_result"
    },
    {
     "data": {
      "image/png": "[encoded data removed]",
      "text/plain": [
       "<Figure size 1080x720 with 1 Axes>"
      ]
     },
     "metadata": {
      "needs_background": "light"
     },
     "output_type": "display_data"
    }
   ],
   "source": [
    "plt.figure(figsize=[15,10])\n",
    "sns.boxplot(df['amt'])"
   ]
  },
  {
   "cell_type": "raw",
   "metadata": {},
   "source": []
  },
  {
   "cell_type": "code",
   "execution_count": 107,
   "metadata": {},
   "outputs": [
    {
     "data": {
      "text/plain": [
       "<AxesSubplot:>"
      ]
     },
     "execution_count": 107,
     "metadata": {},
     "output_type": "execute_result"
    },
    {
     "data": {
      "image/png": "[encoded data removed]",
      "text/plain": [
       "<Figure size 432x288 with 2 Axes>"
      ]
     },
     "metadata": {
      "needs_background": "light"
     },
     "output_type": "display_data"
    }
   ],
   "source": [
    "sns.heatmap(df.corr(), annot=True,)"
   ]
  },
  {
   "cell_type": "markdown",
   "metadata": {},
   "source": []
  },
  {
   "cell_type": "markdown",
   "metadata": {},
   "source": [
    "## Treating outliers:"
   ]
  },
  {
   "cell_type": "code",
   "execution_count": 100,
   "metadata": {},
   "outputs": [
    {
     "data": {
      "text/plain": [
       "trans_date_trans_time    datetime64[ns]\n",
       "cc_num                            int64\n",
       "merchant                         object\n",
       "category                         object\n",
       "amt                             float64\n",
       "first                            object\n",
       "last                             object\n",
       "gender                           object\n",
       "street                           object\n",
       "city                             object\n",
       "state                            object\n",
       "city_pop                          int64\n",
       "job                              object\n",
       "dob                      datetime64[ns]\n",
       "trans_num                        object\n",
       "is_fraud                          int64\n",
       "trans_hour                        int64\n",
       "day_of_week                      object\n",
       "year_month                    period[M]\n",
       "age                             float64\n",
       "dtype: object"
      ]
     },
     "execution_count": 100,
     "metadata": {},
     "output_type": "execute_result"
    }
   ],
   "source": [
    "df.dtypes"
   ]
  },
  {
   "cell_type": "code",
   "execution_count": 22,
   "metadata": {},
   "outputs": [],
   "source": [
    "df100 = df.drop(['trans_date_trans_time', 'dob', 'year_month'], axis=1)"
   ]
  },
  {
   "cell_type": "code",
   "execution_count": 23,
   "metadata": {},
   "outputs": [
    {
     "name": "stdout",
     "output_type": "stream",
     "text": [
      "(555719, 23)\n",
      "(377670, 23)\n"
     ]
    }
   ],
   "source": [
    "Q1 = df100.quantile(0.25)\n",
    "Q3 = df100.quantile(0.75)\n",
    "\n",
    "IQR = Q3 - Q1\n",
    "\n",
    "find_outliers = ((df100 < (Q1 - 1.5*IQR)) | (df100 > (Q3 + 1.5*IQR))).any(axis = 1)\n",
    "\n",
    "print(df100.shape)\n",
    "print(df100[~find_outliers].shape)\n",
    "\n",
    "df100 = df100[~find_outliers]"
   ]
  },
  {
   "cell_type": "code",
   "execution_count": 104,
   "metadata": {
    "scrolled": true
   },
   "outputs": [
    {
     "data": {
      "text/plain": [
       "trans_date_trans_time      60 days 04:45:04.065916182\n",
       "cc_num                          1309836622980698624.0\n",
       "amt                                        156.745941\n",
       "city_pop                                300390.892061\n",
       "dob                      6366 days 13:45:13.689843520\n",
       "is_fraud                                     0.062008\n",
       "trans_hour                                   6.810924\n",
       "age                                         17.434172\n",
       "dtype: object"
      ]
     },
     "execution_count": 104,
     "metadata": {},
     "output_type": "execute_result"
    }
   ],
   "source": [
    "df.std()"
   ]
  },
  {
   "cell_type": "markdown",
   "metadata": {},
   "source": []
  },
  {
   "cell_type": "markdown",
   "metadata": {},
   "source": [
    "## Dropping irrelevant columns:"
   ]
  },
  {
   "cell_type": "code",
   "execution_count": 26,
   "metadata": {},
   "outputs": [
    {
     "data": {
      "text/plain": [
       "Index(['trans_date_trans_time', 'cc_num', 'merchant', 'category', 'amt',\n",
       "       'first', 'last', 'gender', 'street', 'city', 'state', 'zip', 'lat',\n",
       "       'long', 'city_pop', 'job', 'dob', 'trans_num', 'unix_time', 'merch_lat',\n",
       "       'merch_long', 'is_fraud', 'trans_hour', 'day_of_week', 'year_month',\n",
       "       'age'],\n",
       "      dtype='object')"
      ]
     },
     "execution_count": 26,
     "metadata": {},
     "output_type": "execute_result"
    }
   ],
   "source": [
    "df.columns"
   ]
  },
  {
   "cell_type": "code",
   "execution_count": 24,
   "metadata": {},
   "outputs": [],
   "source": [
    "df.drop(columns=['zip', 'lat', 'long', 'unix_time', 'merch_lat', 'merch_long'], axis=1, inplace=True)"
   ]
  },
  {
   "cell_type": "code",
   "execution_count": 28,
   "metadata": {},
   "outputs": [
    {
     "data": {
      "text/plain": [
       "Index(['trans_date_trans_time', 'cc_num', 'merchant', 'category', 'amt',\n",
       "       'first', 'last', 'gender', 'street', 'city', 'state', 'city_pop', 'job',\n",
       "       'dob', 'trans_num', 'is_fraud', 'trans_hour', 'day_of_week',\n",
       "       'year_month', 'age'],\n",
       "      dtype='object')"
      ]
     },
     "execution_count": 28,
     "metadata": {},
     "output_type": "execute_result"
    }
   ],
   "source": [
    "df.columns"
   ]
  },
  {
   "cell_type": "raw",
   "metadata": {},
   "source": []
  },
  {
   "cell_type": "markdown",
   "metadata": {},
   "source": [
    "#### Gender"
   ]
  },
  {
   "cell_type": "code",
   "execution_count": 25,
   "metadata": {},
   "outputs": [
    {
     "data": {
      "text/html": [
       "<div>\n",
       "<style scoped>\n",
       "    .dataframe tbody tr th:only-of-type {\n",
       "        vertical-align: middle;\n",
       "    }\n",
       "\n",
       "    .dataframe tbody tr th {\n",
       "        vertical-align: top;\n",
       "    }\n",
       "\n",
       "    .dataframe thead th {\n",
       "        text-align: right;\n",
       "    }\n",
       "</style>\n",
       "<table border=\"1\" class=\"dataframe\">\n",
       "  <thead>\n",
       "    <tr style=\"text-align: right;\">\n",
       "      <th></th>\n",
       "      <th>Gender</th>\n",
       "      <th>gender_count</th>\n",
       "      <th>percent</th>\n",
       "    </tr>\n",
       "  </thead>\n",
       "  <tbody>\n",
       "    <tr>\n",
       "      <th>0</th>\n",
       "      <td>F</td>\n",
       "      <td>304886</td>\n",
       "      <td>54.863339</td>\n",
       "    </tr>\n",
       "    <tr>\n",
       "      <th>1</th>\n",
       "      <td>M</td>\n",
       "      <td>250833</td>\n",
       "      <td>45.136661</td>\n",
       "    </tr>\n",
       "  </tbody>\n",
       "</table>\n",
       "</div>"
      ],
      "text/plain": [
       "  Gender  gender_count    percent\n",
       "0      F        304886  54.863339\n",
       "1      M        250833  45.136661"
      ]
     },
     "execution_count": 25,
     "metadata": {},
     "output_type": "execute_result"
    }
   ],
   "source": [
    "df_gender = df[['gender','trans_num']].groupby(['gender']).count().reset_index()\n",
    "df_gender.columns = ['Gender','gender_count']\n",
    "\n",
    "df_gender['percent'] = (df_gender['gender_count']/df_gender['gender_count'].sum())*100\n",
    "\n",
    "df_gender"
   ]
  },
  {
   "cell_type": "markdown",
   "metadata": {},
   "source": [
    "Females customers are higher than male"
   ]
  },
  {
   "cell_type": "code",
   "execution_count": 26,
   "metadata": {},
   "outputs": [
    {
     "data": {
      "image/png": "[encoded data removed]",
      "text/plain": [
       "<Figure size 432x288 with 1 Axes>"
      ]
     },
     "metadata": {
      "needs_background": "light"
     },
     "output_type": "display_data"
    }
   ],
   "source": [
    "plt.bar(df_gender['Gender'], df_gender['gender_count'], color=(0.2, 0.4, 0.6, 0.6),  \n",
    "        width = 0.4)\n",
    "\n",
    "plt.show()"
   ]
  },
  {
   "cell_type": "code",
   "execution_count": 27,
   "metadata": {},
   "outputs": [
    {
     "data": {
      "text/html": [
       "<div>\n",
       "<style scoped>\n",
       "    .dataframe tbody tr th:only-of-type {\n",
       "        vertical-align: middle;\n",
       "    }\n",
       "\n",
       "    .dataframe tbody tr th {\n",
       "        vertical-align: top;\n",
       "    }\n",
       "\n",
       "    .dataframe thead th {\n",
       "        text-align: right;\n",
       "    }\n",
       "</style>\n",
       "<table border=\"1\" class=\"dataframe\">\n",
       "  <thead>\n",
       "    <tr style=\"text-align: right;\">\n",
       "      <th>is_fraud</th>\n",
       "      <th>0</th>\n",
       "      <th>1</th>\n",
       "    </tr>\n",
       "    <tr>\n",
       "      <th>gender</th>\n",
       "      <th></th>\n",
       "      <th></th>\n",
       "    </tr>\n",
       "  </thead>\n",
       "  <tbody>\n",
       "    <tr>\n",
       "      <th>F</th>\n",
       "      <td>303722</td>\n",
       "      <td>1164</td>\n",
       "    </tr>\n",
       "    <tr>\n",
       "      <th>M</th>\n",
       "      <td>249852</td>\n",
       "      <td>981</td>\n",
       "    </tr>\n",
       "  </tbody>\n",
       "</table>\n",
       "</div>"
      ],
      "text/plain": [
       "is_fraud       0     1\n",
       "gender                \n",
       "F         303722  1164\n",
       "M         249852   981"
      ]
     },
     "execution_count": 27,
     "metadata": {},
     "output_type": "execute_result"
    }
   ],
   "source": [
    "pd.crosstab(df['gender'], df['is_fraud'])"
   ]
  },
  {
   "cell_type": "code",
   "execution_count": 28,
   "metadata": {},
   "outputs": [
    {
     "data": {
      "text/plain": [
       "<AxesSubplot:xlabel='gender'>"
      ]
     },
     "execution_count": 28,
     "metadata": {},
     "output_type": "execute_result"
    },
    {
     "data": {
      "image/png": "[encoded data removed]",
      "text/plain": [
       "<Figure size 720x360 with 1 Axes>"
      ]
     },
     "metadata": {
      "needs_background": "light"
     },
     "output_type": "display_data"
    }
   ],
   "source": [
    "pd.crosstab(df['gender'], df['is_fraud']).plot(kind='bar', figsize=(10,5))"
   ]
  },
  {
   "cell_type": "code",
   "execution_count": 29,
   "metadata": {},
   "outputs": [
    {
     "data": {
      "text/html": [
       "<div>\n",
       "<style scoped>\n",
       "    .dataframe tbody tr th:only-of-type {\n",
       "        vertical-align: middle;\n",
       "    }\n",
       "\n",
       "    .dataframe tbody tr th {\n",
       "        vertical-align: top;\n",
       "    }\n",
       "\n",
       "    .dataframe thead th {\n",
       "        text-align: right;\n",
       "    }\n",
       "</style>\n",
       "<table border=\"1\" class=\"dataframe\">\n",
       "  <thead>\n",
       "    <tr style=\"text-align: right;\">\n",
       "      <th></th>\n",
       "      <th>Gender</th>\n",
       "      <th>is_fraud</th>\n",
       "      <th>count</th>\n",
       "      <th>gender_count</th>\n",
       "      <th>percent_grp</th>\n",
       "    </tr>\n",
       "  </thead>\n",
       "  <tbody>\n",
       "    <tr>\n",
       "      <th>0</th>\n",
       "      <td>F</td>\n",
       "      <td>0</td>\n",
       "      <td>303722</td>\n",
       "      <td>304886</td>\n",
       "      <td>99.618218</td>\n",
       "    </tr>\n",
       "    <tr>\n",
       "      <th>1</th>\n",
       "      <td>F</td>\n",
       "      <td>1</td>\n",
       "      <td>1164</td>\n",
       "      <td>304886</td>\n",
       "      <td>0.381782</td>\n",
       "    </tr>\n",
       "    <tr>\n",
       "      <th>2</th>\n",
       "      <td>M</td>\n",
       "      <td>0</td>\n",
       "      <td>249852</td>\n",
       "      <td>250833</td>\n",
       "      <td>99.608903</td>\n",
       "    </tr>\n",
       "    <tr>\n",
       "      <th>3</th>\n",
       "      <td>M</td>\n",
       "      <td>1</td>\n",
       "      <td>981</td>\n",
       "      <td>250833</td>\n",
       "      <td>0.391097</td>\n",
       "    </tr>\n",
       "  </tbody>\n",
       "</table>\n",
       "</div>"
      ],
      "text/plain": [
       "  Gender  is_fraud   count  gender_count  percent_grp\n",
       "0      F         0  303722        304886    99.618218\n",
       "1      F         1    1164        304886     0.381782\n",
       "2      M         0  249852        250833    99.608903\n",
       "3      M         1     981        250833     0.391097"
      ]
     },
     "execution_count": 29,
     "metadata": {},
     "output_type": "execute_result"
    }
   ],
   "source": [
    "df_fraud_gender = df[['gender','is_fraud','trans_num']].groupby(['gender','is_fraud']).count().reset_index()\n",
    "df_fraud_gender.columns = ['Gender','is_fraud','count']\n",
    "\n",
    "df_fraud_gender = df_fraud_gender.merge(df_gender[['Gender','gender_count']],how='inner',\\\n",
    "                                  left_on='Gender',right_on='Gender')\n",
    "\n",
    "\n",
    "df_fraud_gender['percent_grp'] = (df_fraud_gender['count']/df_fraud_gender['gender_count'])*100\n",
    "\n",
    "\n",
    "df_fraud_gender"
   ]
  },
  {
   "cell_type": "raw",
   "metadata": {},
   "source": []
  },
  {
   "cell_type": "markdown",
   "metadata": {},
   "source": [
    "##### Category"
   ]
  },
  {
   "cell_type": "code",
   "execution_count": 30,
   "metadata": {},
   "outputs": [
    {
     "data": {
      "text/html": [
       "<div>\n",
       "<style scoped>\n",
       "    .dataframe tbody tr th:only-of-type {\n",
       "        vertical-align: middle;\n",
       "    }\n",
       "\n",
       "    .dataframe tbody tr th {\n",
       "        vertical-align: top;\n",
       "    }\n",
       "\n",
       "    .dataframe thead th {\n",
       "        text-align: right;\n",
       "    }\n",
       "</style>\n",
       "<table border=\"1\" class=\"dataframe\">\n",
       "  <thead>\n",
       "    <tr style=\"text-align: right;\">\n",
       "      <th></th>\n",
       "      <th>Category</th>\n",
       "      <th>category_count</th>\n",
       "      <th>percent</th>\n",
       "    </tr>\n",
       "  </thead>\n",
       "  <tbody>\n",
       "    <tr>\n",
       "      <th>2</th>\n",
       "      <td>gas_transport</td>\n",
       "      <td>56370</td>\n",
       "      <td>10.143616</td>\n",
       "    </tr>\n",
       "    <tr>\n",
       "      <th>4</th>\n",
       "      <td>grocery_pos</td>\n",
       "      <td>52553</td>\n",
       "      <td>9.456758</td>\n",
       "    </tr>\n",
       "    <tr>\n",
       "      <th>6</th>\n",
       "      <td>home</td>\n",
       "      <td>52345</td>\n",
       "      <td>9.419329</td>\n",
       "    </tr>\n",
       "    <tr>\n",
       "      <th>12</th>\n",
       "      <td>shopping_pos</td>\n",
       "      <td>49791</td>\n",
       "      <td>8.959744</td>\n",
       "    </tr>\n",
       "    <tr>\n",
       "      <th>7</th>\n",
       "      <td>kids_pets</td>\n",
       "      <td>48692</td>\n",
       "      <td>8.761982</td>\n",
       "    </tr>\n",
       "    <tr>\n",
       "      <th>11</th>\n",
       "      <td>shopping_net</td>\n",
       "      <td>41779</td>\n",
       "      <td>7.518008</td>\n",
       "    </tr>\n",
       "    <tr>\n",
       "      <th>0</th>\n",
       "      <td>entertainment</td>\n",
       "      <td>40104</td>\n",
       "      <td>7.216597</td>\n",
       "    </tr>\n",
       "    <tr>\n",
       "      <th>10</th>\n",
       "      <td>personal_care</td>\n",
       "      <td>39327</td>\n",
       "      <td>7.076778</td>\n",
       "    </tr>\n",
       "    <tr>\n",
       "      <th>1</th>\n",
       "      <td>food_dining</td>\n",
       "      <td>39268</td>\n",
       "      <td>7.066161</td>\n",
       "    </tr>\n",
       "    <tr>\n",
       "      <th>5</th>\n",
       "      <td>health_fitness</td>\n",
       "      <td>36674</td>\n",
       "      <td>6.599378</td>\n",
       "    </tr>\n",
       "    <tr>\n",
       "      <th>9</th>\n",
       "      <td>misc_pos</td>\n",
       "      <td>34574</td>\n",
       "      <td>6.221490</td>\n",
       "    </tr>\n",
       "    <tr>\n",
       "      <th>8</th>\n",
       "      <td>misc_net</td>\n",
       "      <td>27367</td>\n",
       "      <td>4.924611</td>\n",
       "    </tr>\n",
       "    <tr>\n",
       "      <th>3</th>\n",
       "      <td>grocery_net</td>\n",
       "      <td>19426</td>\n",
       "      <td>3.495652</td>\n",
       "    </tr>\n",
       "    <tr>\n",
       "      <th>13</th>\n",
       "      <td>travel</td>\n",
       "      <td>17449</td>\n",
       "      <td>3.139896</td>\n",
       "    </tr>\n",
       "  </tbody>\n",
       "</table>\n",
       "</div>"
      ],
      "text/plain": [
       "          Category  category_count    percent\n",
       "2    gas_transport           56370  10.143616\n",
       "4      grocery_pos           52553   9.456758\n",
       "6             home           52345   9.419329\n",
       "12    shopping_pos           49791   8.959744\n",
       "7        kids_pets           48692   8.761982\n",
       "11    shopping_net           41779   7.518008\n",
       "0    entertainment           40104   7.216597\n",
       "10   personal_care           39327   7.076778\n",
       "1      food_dining           39268   7.066161\n",
       "5   health_fitness           36674   6.599378\n",
       "9         misc_pos           34574   6.221490\n",
       "8         misc_net           27367   4.924611\n",
       "3      grocery_net           19426   3.495652\n",
       "13          travel           17449   3.139896"
      ]
     },
     "execution_count": 30,
     "metadata": {},
     "output_type": "execute_result"
    }
   ],
   "source": [
    "df_category = df[['category','trans_num']].groupby(['category']).count().reset_index()\n",
    "df_category.columns = ['Category','category_count']\n",
    "\n",
    "df_category['percent'] = (df_category['category_count']/df_category['category_count'].sum())*100\n",
    "\n",
    "df_category.sort_values(by = ['percent'], ascending=False)"
   ]
  },
  {
   "cell_type": "markdown",
   "metadata": {},
   "source": [
    "Gas_transport holds for the maximum no.of the transactions "
   ]
  },
  {
   "cell_type": "code",
   "execution_count": 31,
   "metadata": {
    "scrolled": true
   },
   "outputs": [
    {
     "data": {
      "image/png": "[encoded data removed]",
      "text/plain": [
       "<Figure size 1440x432 with 1 Axes>"
      ]
     },
     "metadata": {
      "needs_background": "light"
     },
     "output_type": "display_data"
    }
   ],
   "source": [
    "fig = plt.figure(figsize = (20, 6)) \n",
    "\n",
    "\n",
    "plt.bar(df_category['Category'], df_category['category_count'], color=(0.2, 0.4, 0.6, 0.6),  \n",
    "        width = 0.4)\n",
    "\n",
    "plt.show()"
   ]
  },
  {
   "cell_type": "code",
   "execution_count": 32,
   "metadata": {},
   "outputs": [],
   "source": [
    "df_fraud_category = df[['category','is_fraud','trans_num']].groupby(['category','is_fraud']).count().reset_index()\n",
    "df_fraud_category.columns = ['Category','is_fraud','count']\n",
    "\n",
    "df_fraud_category = df_fraud_category.merge(df_category[['Category','category_count','percent']],how='inner',\\\n",
    "                                  left_on='Category',right_on='Category')\n",
    "\n",
    "\n",
    "df_fraud_category['percent_grp'] = (df_fraud_category['count']/df_fraud_category['category_count'])*100\n"
   ]
  },
  {
   "cell_type": "code",
   "execution_count": 33,
   "metadata": {},
   "outputs": [
    {
     "data": {
      "text/html": [
       "<div>\n",
       "<style scoped>\n",
       "    .dataframe tbody tr th:only-of-type {\n",
       "        vertical-align: middle;\n",
       "    }\n",
       "\n",
       "    .dataframe tbody tr th {\n",
       "        vertical-align: top;\n",
       "    }\n",
       "\n",
       "    .dataframe thead th {\n",
       "        text-align: right;\n",
       "    }\n",
       "</style>\n",
       "<table border=\"1\" class=\"dataframe\">\n",
       "  <thead>\n",
       "    <tr style=\"text-align: right;\">\n",
       "      <th></th>\n",
       "      <th>Category</th>\n",
       "      <th>is_fraud</th>\n",
       "      <th>count</th>\n",
       "      <th>category_count</th>\n",
       "      <th>percent</th>\n",
       "      <th>percent_grp</th>\n",
       "    </tr>\n",
       "  </thead>\n",
       "  <tbody>\n",
       "    <tr>\n",
       "      <th>27</th>\n",
       "      <td>travel</td>\n",
       "      <td>1</td>\n",
       "      <td>40</td>\n",
       "      <td>17449</td>\n",
       "      <td>3.139896</td>\n",
       "      <td>0.229239</td>\n",
       "    </tr>\n",
       "    <tr>\n",
       "      <th>7</th>\n",
       "      <td>grocery_net</td>\n",
       "      <td>1</td>\n",
       "      <td>41</td>\n",
       "      <td>19426</td>\n",
       "      <td>3.495652</td>\n",
       "      <td>0.211057</td>\n",
       "    </tr>\n",
       "    <tr>\n",
       "      <th>11</th>\n",
       "      <td>health_fitness</td>\n",
       "      <td>1</td>\n",
       "      <td>52</td>\n",
       "      <td>36674</td>\n",
       "      <td>6.599378</td>\n",
       "      <td>0.141790</td>\n",
       "    </tr>\n",
       "    <tr>\n",
       "      <th>3</th>\n",
       "      <td>food_dining</td>\n",
       "      <td>1</td>\n",
       "      <td>54</td>\n",
       "      <td>39268</td>\n",
       "      <td>7.066161</td>\n",
       "      <td>0.137517</td>\n",
       "    </tr>\n",
       "    <tr>\n",
       "      <th>1</th>\n",
       "      <td>entertainment</td>\n",
       "      <td>1</td>\n",
       "      <td>59</td>\n",
       "      <td>40104</td>\n",
       "      <td>7.216597</td>\n",
       "      <td>0.147117</td>\n",
       "    </tr>\n",
       "    <tr>\n",
       "      <th>15</th>\n",
       "      <td>kids_pets</td>\n",
       "      <td>1</td>\n",
       "      <td>65</td>\n",
       "      <td>48692</td>\n",
       "      <td>8.761982</td>\n",
       "      <td>0.133492</td>\n",
       "    </tr>\n",
       "    <tr>\n",
       "      <th>13</th>\n",
       "      <td>home</td>\n",
       "      <td>1</td>\n",
       "      <td>67</td>\n",
       "      <td>52345</td>\n",
       "      <td>9.419329</td>\n",
       "      <td>0.127997</td>\n",
       "    </tr>\n",
       "    <tr>\n",
       "      <th>21</th>\n",
       "      <td>personal_care</td>\n",
       "      <td>1</td>\n",
       "      <td>70</td>\n",
       "      <td>39327</td>\n",
       "      <td>7.076778</td>\n",
       "      <td>0.177995</td>\n",
       "    </tr>\n",
       "    <tr>\n",
       "      <th>19</th>\n",
       "      <td>misc_pos</td>\n",
       "      <td>1</td>\n",
       "      <td>72</td>\n",
       "      <td>34574</td>\n",
       "      <td>6.221490</td>\n",
       "      <td>0.208249</td>\n",
       "    </tr>\n",
       "    <tr>\n",
       "      <th>5</th>\n",
       "      <td>gas_transport</td>\n",
       "      <td>1</td>\n",
       "      <td>154</td>\n",
       "      <td>56370</td>\n",
       "      <td>10.143616</td>\n",
       "      <td>0.273195</td>\n",
       "    </tr>\n",
       "    <tr>\n",
       "      <th>25</th>\n",
       "      <td>shopping_pos</td>\n",
       "      <td>1</td>\n",
       "      <td>213</td>\n",
       "      <td>49791</td>\n",
       "      <td>8.959744</td>\n",
       "      <td>0.427788</td>\n",
       "    </tr>\n",
       "    <tr>\n",
       "      <th>17</th>\n",
       "      <td>misc_net</td>\n",
       "      <td>1</td>\n",
       "      <td>267</td>\n",
       "      <td>27367</td>\n",
       "      <td>4.924611</td>\n",
       "      <td>0.975628</td>\n",
       "    </tr>\n",
       "    <tr>\n",
       "      <th>9</th>\n",
       "      <td>grocery_pos</td>\n",
       "      <td>1</td>\n",
       "      <td>485</td>\n",
       "      <td>52553</td>\n",
       "      <td>9.456758</td>\n",
       "      <td>0.922878</td>\n",
       "    </tr>\n",
       "    <tr>\n",
       "      <th>23</th>\n",
       "      <td>shopping_net</td>\n",
       "      <td>1</td>\n",
       "      <td>506</td>\n",
       "      <td>41779</td>\n",
       "      <td>7.518008</td>\n",
       "      <td>1.211135</td>\n",
       "    </tr>\n",
       "    <tr>\n",
       "      <th>26</th>\n",
       "      <td>travel</td>\n",
       "      <td>0</td>\n",
       "      <td>17409</td>\n",
       "      <td>17449</td>\n",
       "      <td>3.139896</td>\n",
       "      <td>99.770761</td>\n",
       "    </tr>\n",
       "    <tr>\n",
       "      <th>6</th>\n",
       "      <td>grocery_net</td>\n",
       "      <td>0</td>\n",
       "      <td>19385</td>\n",
       "      <td>19426</td>\n",
       "      <td>3.495652</td>\n",
       "      <td>99.788943</td>\n",
       "    </tr>\n",
       "    <tr>\n",
       "      <th>16</th>\n",
       "      <td>misc_net</td>\n",
       "      <td>0</td>\n",
       "      <td>27100</td>\n",
       "      <td>27367</td>\n",
       "      <td>4.924611</td>\n",
       "      <td>99.024372</td>\n",
       "    </tr>\n",
       "    <tr>\n",
       "      <th>18</th>\n",
       "      <td>misc_pos</td>\n",
       "      <td>0</td>\n",
       "      <td>34502</td>\n",
       "      <td>34574</td>\n",
       "      <td>6.221490</td>\n",
       "      <td>99.791751</td>\n",
       "    </tr>\n",
       "    <tr>\n",
       "      <th>10</th>\n",
       "      <td>health_fitness</td>\n",
       "      <td>0</td>\n",
       "      <td>36622</td>\n",
       "      <td>36674</td>\n",
       "      <td>6.599378</td>\n",
       "      <td>99.858210</td>\n",
       "    </tr>\n",
       "    <tr>\n",
       "      <th>2</th>\n",
       "      <td>food_dining</td>\n",
       "      <td>0</td>\n",
       "      <td>39214</td>\n",
       "      <td>39268</td>\n",
       "      <td>7.066161</td>\n",
       "      <td>99.862483</td>\n",
       "    </tr>\n",
       "    <tr>\n",
       "      <th>20</th>\n",
       "      <td>personal_care</td>\n",
       "      <td>0</td>\n",
       "      <td>39257</td>\n",
       "      <td>39327</td>\n",
       "      <td>7.076778</td>\n",
       "      <td>99.822005</td>\n",
       "    </tr>\n",
       "    <tr>\n",
       "      <th>0</th>\n",
       "      <td>entertainment</td>\n",
       "      <td>0</td>\n",
       "      <td>40045</td>\n",
       "      <td>40104</td>\n",
       "      <td>7.216597</td>\n",
       "      <td>99.852883</td>\n",
       "    </tr>\n",
       "    <tr>\n",
       "      <th>22</th>\n",
       "      <td>shopping_net</td>\n",
       "      <td>0</td>\n",
       "      <td>41273</td>\n",
       "      <td>41779</td>\n",
       "      <td>7.518008</td>\n",
       "      <td>98.788865</td>\n",
       "    </tr>\n",
       "    <tr>\n",
       "      <th>14</th>\n",
       "      <td>kids_pets</td>\n",
       "      <td>0</td>\n",
       "      <td>48627</td>\n",
       "      <td>48692</td>\n",
       "      <td>8.761982</td>\n",
       "      <td>99.866508</td>\n",
       "    </tr>\n",
       "    <tr>\n",
       "      <th>24</th>\n",
       "      <td>shopping_pos</td>\n",
       "      <td>0</td>\n",
       "      <td>49578</td>\n",
       "      <td>49791</td>\n",
       "      <td>8.959744</td>\n",
       "      <td>99.572212</td>\n",
       "    </tr>\n",
       "    <tr>\n",
       "      <th>8</th>\n",
       "      <td>grocery_pos</td>\n",
       "      <td>0</td>\n",
       "      <td>52068</td>\n",
       "      <td>52553</td>\n",
       "      <td>9.456758</td>\n",
       "      <td>99.077122</td>\n",
       "    </tr>\n",
       "    <tr>\n",
       "      <th>12</th>\n",
       "      <td>home</td>\n",
       "      <td>0</td>\n",
       "      <td>52278</td>\n",
       "      <td>52345</td>\n",
       "      <td>9.419329</td>\n",
       "      <td>99.872003</td>\n",
       "    </tr>\n",
       "    <tr>\n",
       "      <th>4</th>\n",
       "      <td>gas_transport</td>\n",
       "      <td>0</td>\n",
       "      <td>56216</td>\n",
       "      <td>56370</td>\n",
       "      <td>10.143616</td>\n",
       "      <td>99.726805</td>\n",
       "    </tr>\n",
       "  </tbody>\n",
       "</table>\n",
       "</div>"
      ],
      "text/plain": [
       "          Category  is_fraud  count  category_count    percent  percent_grp\n",
       "27          travel         1     40           17449   3.139896     0.229239\n",
       "7      grocery_net         1     41           19426   3.495652     0.211057\n",
       "11  health_fitness         1     52           36674   6.599378     0.141790\n",
       "3      food_dining         1     54           39268   7.066161     0.137517\n",
       "1    entertainment         1     59           40104   7.216597     0.147117\n",
       "15       kids_pets         1     65           48692   8.761982     0.133492\n",
       "13            home         1     67           52345   9.419329     0.127997\n",
       "21   personal_care         1     70           39327   7.076778     0.177995\n",
       "19        misc_pos         1     72           34574   6.221490     0.208249\n",
       "5    gas_transport         1    154           56370  10.143616     0.273195\n",
       "25    shopping_pos         1    213           49791   8.959744     0.427788\n",
       "17        misc_net         1    267           27367   4.924611     0.975628\n",
       "9      grocery_pos         1    485           52553   9.456758     0.922878\n",
       "23    shopping_net         1    506           41779   7.518008     1.211135\n",
       "26          travel         0  17409           17449   3.139896    99.770761\n",
       "6      grocery_net         0  19385           19426   3.495652    99.788943\n",
       "16        misc_net         0  27100           27367   4.924611    99.024372\n",
       "18        misc_pos         0  34502           34574   6.221490    99.791751\n",
       "10  health_fitness         0  36622           36674   6.599378    99.858210\n",
       "2      food_dining         0  39214           39268   7.066161    99.862483\n",
       "20   personal_care         0  39257           39327   7.076778    99.822005\n",
       "0    entertainment         0  40045           40104   7.216597    99.852883\n",
       "22    shopping_net         0  41273           41779   7.518008    98.788865\n",
       "14       kids_pets         0  48627           48692   8.761982    99.866508\n",
       "24    shopping_pos         0  49578           49791   8.959744    99.572212\n",
       "8      grocery_pos         0  52068           52553   9.456758    99.077122\n",
       "12            home         0  52278           52345   9.419329    99.872003\n",
       "4    gas_transport         0  56216           56370  10.143616    99.726805"
      ]
     },
     "execution_count": 33,
     "metadata": {},
     "output_type": "execute_result"
    }
   ],
   "source": [
    "df_fraud_category.sort_values(by = ['count'], ascending=True)"
   ]
  },
  {
   "cell_type": "markdown",
   "metadata": {},
   "source": [
    "#### grocery_pos and shopping_net has more number of fraud transactions compared to other categories"
   ]
  },
  {
   "cell_type": "raw",
   "metadata": {},
   "source": []
  },
  {
   "cell_type": "code",
   "execution_count": 34,
   "metadata": {},
   "outputs": [
    {
     "data": {
      "text/html": [
       "<div>\n",
       "<style scoped>\n",
       "    .dataframe tbody tr th:only-of-type {\n",
       "        vertical-align: middle;\n",
       "    }\n",
       "\n",
       "    .dataframe tbody tr th {\n",
       "        vertical-align: top;\n",
       "    }\n",
       "\n",
       "    .dataframe thead th {\n",
       "        text-align: right;\n",
       "    }\n",
       "</style>\n",
       "<table border=\"1\" class=\"dataframe\">\n",
       "  <thead>\n",
       "    <tr style=\"text-align: right;\">\n",
       "      <th></th>\n",
       "      <th>Category</th>\n",
       "      <th>is_fraud</th>\n",
       "      <th>count</th>\n",
       "      <th>category_count</th>\n",
       "      <th>percent</th>\n",
       "      <th>percent_grp</th>\n",
       "    </tr>\n",
       "  </thead>\n",
       "  <tbody>\n",
       "    <tr>\n",
       "      <th>13</th>\n",
       "      <td>home</td>\n",
       "      <td>1</td>\n",
       "      <td>67</td>\n",
       "      <td>52345</td>\n",
       "      <td>9.419329</td>\n",
       "      <td>0.127997</td>\n",
       "    </tr>\n",
       "    <tr>\n",
       "      <th>15</th>\n",
       "      <td>kids_pets</td>\n",
       "      <td>1</td>\n",
       "      <td>65</td>\n",
       "      <td>48692</td>\n",
       "      <td>8.761982</td>\n",
       "      <td>0.133492</td>\n",
       "    </tr>\n",
       "    <tr>\n",
       "      <th>3</th>\n",
       "      <td>food_dining</td>\n",
       "      <td>1</td>\n",
       "      <td>54</td>\n",
       "      <td>39268</td>\n",
       "      <td>7.066161</td>\n",
       "      <td>0.137517</td>\n",
       "    </tr>\n",
       "    <tr>\n",
       "      <th>11</th>\n",
       "      <td>health_fitness</td>\n",
       "      <td>1</td>\n",
       "      <td>52</td>\n",
       "      <td>36674</td>\n",
       "      <td>6.599378</td>\n",
       "      <td>0.141790</td>\n",
       "    </tr>\n",
       "    <tr>\n",
       "      <th>1</th>\n",
       "      <td>entertainment</td>\n",
       "      <td>1</td>\n",
       "      <td>59</td>\n",
       "      <td>40104</td>\n",
       "      <td>7.216597</td>\n",
       "      <td>0.147117</td>\n",
       "    </tr>\n",
       "    <tr>\n",
       "      <th>21</th>\n",
       "      <td>personal_care</td>\n",
       "      <td>1</td>\n",
       "      <td>70</td>\n",
       "      <td>39327</td>\n",
       "      <td>7.076778</td>\n",
       "      <td>0.177995</td>\n",
       "    </tr>\n",
       "    <tr>\n",
       "      <th>19</th>\n",
       "      <td>misc_pos</td>\n",
       "      <td>1</td>\n",
       "      <td>72</td>\n",
       "      <td>34574</td>\n",
       "      <td>6.221490</td>\n",
       "      <td>0.208249</td>\n",
       "    </tr>\n",
       "    <tr>\n",
       "      <th>7</th>\n",
       "      <td>grocery_net</td>\n",
       "      <td>1</td>\n",
       "      <td>41</td>\n",
       "      <td>19426</td>\n",
       "      <td>3.495652</td>\n",
       "      <td>0.211057</td>\n",
       "    </tr>\n",
       "    <tr>\n",
       "      <th>27</th>\n",
       "      <td>travel</td>\n",
       "      <td>1</td>\n",
       "      <td>40</td>\n",
       "      <td>17449</td>\n",
       "      <td>3.139896</td>\n",
       "      <td>0.229239</td>\n",
       "    </tr>\n",
       "    <tr>\n",
       "      <th>5</th>\n",
       "      <td>gas_transport</td>\n",
       "      <td>1</td>\n",
       "      <td>154</td>\n",
       "      <td>56370</td>\n",
       "      <td>10.143616</td>\n",
       "      <td>0.273195</td>\n",
       "    </tr>\n",
       "    <tr>\n",
       "      <th>25</th>\n",
       "      <td>shopping_pos</td>\n",
       "      <td>1</td>\n",
       "      <td>213</td>\n",
       "      <td>49791</td>\n",
       "      <td>8.959744</td>\n",
       "      <td>0.427788</td>\n",
       "    </tr>\n",
       "    <tr>\n",
       "      <th>9</th>\n",
       "      <td>grocery_pos</td>\n",
       "      <td>1</td>\n",
       "      <td>485</td>\n",
       "      <td>52553</td>\n",
       "      <td>9.456758</td>\n",
       "      <td>0.922878</td>\n",
       "    </tr>\n",
       "    <tr>\n",
       "      <th>17</th>\n",
       "      <td>misc_net</td>\n",
       "      <td>1</td>\n",
       "      <td>267</td>\n",
       "      <td>27367</td>\n",
       "      <td>4.924611</td>\n",
       "      <td>0.975628</td>\n",
       "    </tr>\n",
       "    <tr>\n",
       "      <th>23</th>\n",
       "      <td>shopping_net</td>\n",
       "      <td>1</td>\n",
       "      <td>506</td>\n",
       "      <td>41779</td>\n",
       "      <td>7.518008</td>\n",
       "      <td>1.211135</td>\n",
       "    </tr>\n",
       "  </tbody>\n",
       "</table>\n",
       "</div>"
      ],
      "text/plain": [
       "          Category  is_fraud  count  category_count    percent  percent_grp\n",
       "13            home         1     67           52345   9.419329     0.127997\n",
       "15       kids_pets         1     65           48692   8.761982     0.133492\n",
       "3      food_dining         1     54           39268   7.066161     0.137517\n",
       "11  health_fitness         1     52           36674   6.599378     0.141790\n",
       "1    entertainment         1     59           40104   7.216597     0.147117\n",
       "21   personal_care         1     70           39327   7.076778     0.177995\n",
       "19        misc_pos         1     72           34574   6.221490     0.208249\n",
       "7      grocery_net         1     41           19426   3.495652     0.211057\n",
       "27          travel         1     40           17449   3.139896     0.229239\n",
       "5    gas_transport         1    154           56370  10.143616     0.273195\n",
       "25    shopping_pos         1    213           49791   8.959744     0.427788\n",
       "9      grocery_pos         1    485           52553   9.456758     0.922878\n",
       "17        misc_net         1    267           27367   4.924611     0.975628\n",
       "23    shopping_net         1    506           41779   7.518008     1.211135"
      ]
     },
     "execution_count": 34,
     "metadata": {},
     "output_type": "execute_result"
    }
   ],
   "source": [
    "df_fraud=df_fraud_category[df_fraud_category['is_fraud'] == 1].sort_values(by = ['percent_grp'])\n",
    "df_fraud"
   ]
  },
  {
   "cell_type": "code",
   "execution_count": 35,
   "metadata": {},
   "outputs": [
    {
     "data": {
      "image/png": "[encoded data removed]",
      "text/plain": [
       "<Figure size 1440x432 with 1 Axes>"
      ]
     },
     "metadata": {
      "needs_background": "light"
     },
     "output_type": "display_data"
    }
   ],
   "source": [
    "fig = plt.figure(figsize = (20, 6)) \n",
    "\n",
    "\n",
    "plt.bar(df_fraud['Category'] , df_fraud['percent_grp'], color=(0.2, 0.4, 0.6, 0.6),  \n",
    "        width = 0.4)\n",
    "\n",
    "plt.show()"
   ]
  },
  {
   "cell_type": "markdown",
   "metadata": {},
   "source": [
    "### According to the percentage group, Shopping net and Misc_net have highest no. of fraud transactions."
   ]
  },
  {
   "cell_type": "raw",
   "metadata": {},
   "source": []
  },
  {
   "cell_type": "markdown",
   "metadata": {},
   "source": [
    "##### Merchant"
   ]
  },
  {
   "cell_type": "code",
   "execution_count": 38,
   "metadata": {},
   "outputs": [
    {
     "data": {
      "text/plain": [
       "fraud_Kilback LLC                        0.003345\n",
       "fraud_Cormier LLC                        0.002874\n",
       "fraud_Schumm PLC                         0.002809\n",
       "fraud_Kuhn LLC                           0.002737\n",
       "fraud_Dickinson Ltd                      0.002733\n",
       "                                           ...   \n",
       "fraud_Treutel-King                       0.000581\n",
       "fraud_Satterfield-Lowe                   0.000574\n",
       "fraud_Kessler Group                      0.000572\n",
       "fraud_Jerde-Hermann                      0.000561\n",
       "fraud_Ritchie, Bradtke and Stiedemann    0.000547\n",
       "Name: merchant, Length: 693, dtype: float64"
      ]
     },
     "execution_count": 38,
     "metadata": {},
     "output_type": "execute_result"
    }
   ],
   "source": [
    "df.merchant.value_counts(normalize=True, ascending=False)"
   ]
  },
  {
   "cell_type": "code",
   "execution_count": 36,
   "metadata": {},
   "outputs": [
    {
     "data": {
      "text/html": [
       "<div>\n",
       "<style scoped>\n",
       "    .dataframe tbody tr th:only-of-type {\n",
       "        vertical-align: middle;\n",
       "    }\n",
       "\n",
       "    .dataframe tbody tr th {\n",
       "        vertical-align: top;\n",
       "    }\n",
       "\n",
       "    .dataframe thead th {\n",
       "        text-align: right;\n",
       "    }\n",
       "</style>\n",
       "<table border=\"1\" class=\"dataframe\">\n",
       "  <thead>\n",
       "    <tr style=\"text-align: right;\">\n",
       "      <th></th>\n",
       "      <th>Merchant</th>\n",
       "      <th>merchant_count</th>\n",
       "      <th>percent</th>\n",
       "    </tr>\n",
       "  </thead>\n",
       "  <tbody>\n",
       "    <tr>\n",
       "      <th>316</th>\n",
       "      <td>fraud_Kilback LLC</td>\n",
       "      <td>1859</td>\n",
       "      <td>0.334522</td>\n",
       "    </tr>\n",
       "    <tr>\n",
       "      <th>105</th>\n",
       "      <td>fraud_Cormier LLC</td>\n",
       "      <td>1597</td>\n",
       "      <td>0.287375</td>\n",
       "    </tr>\n",
       "    <tr>\n",
       "      <th>571</th>\n",
       "      <td>fraud_Schumm PLC</td>\n",
       "      <td>1561</td>\n",
       "      <td>0.280897</td>\n",
       "    </tr>\n",
       "    <tr>\n",
       "      <th>349</th>\n",
       "      <td>fraud_Kuhn LLC</td>\n",
       "      <td>1521</td>\n",
       "      <td>0.273699</td>\n",
       "    </tr>\n",
       "    <tr>\n",
       "      <th>136</th>\n",
       "      <td>fraud_Dickinson Ltd</td>\n",
       "      <td>1519</td>\n",
       "      <td>0.273340</td>\n",
       "    </tr>\n",
       "    <tr>\n",
       "      <th>...</th>\n",
       "      <td>...</td>\n",
       "      <td>...</td>\n",
       "      <td>...</td>\n",
       "    </tr>\n",
       "    <tr>\n",
       "      <th>633</th>\n",
       "      <td>fraud_Treutel-King</td>\n",
       "      <td>323</td>\n",
       "      <td>0.058123</td>\n",
       "    </tr>\n",
       "    <tr>\n",
       "      <th>544</th>\n",
       "      <td>fraud_Satterfield-Lowe</td>\n",
       "      <td>319</td>\n",
       "      <td>0.057403</td>\n",
       "    </tr>\n",
       "    <tr>\n",
       "      <th>306</th>\n",
       "      <td>fraud_Kessler Group</td>\n",
       "      <td>318</td>\n",
       "      <td>0.057223</td>\n",
       "    </tr>\n",
       "    <tr>\n",
       "      <th>286</th>\n",
       "      <td>fraud_Jerde-Hermann</td>\n",
       "      <td>312</td>\n",
       "      <td>0.056143</td>\n",
       "    </tr>\n",
       "    <tr>\n",
       "      <th>516</th>\n",
       "      <td>fraud_Ritchie, Bradtke and Stiedemann</td>\n",
       "      <td>304</td>\n",
       "      <td>0.054704</td>\n",
       "    </tr>\n",
       "  </tbody>\n",
       "</table>\n",
       "<p>693 rows × 3 columns</p>\n",
       "</div>"
      ],
      "text/plain": [
       "                                  Merchant  merchant_count   percent\n",
       "316                      fraud_Kilback LLC            1859  0.334522\n",
       "105                      fraud_Cormier LLC            1597  0.287375\n",
       "571                       fraud_Schumm PLC            1561  0.280897\n",
       "349                         fraud_Kuhn LLC            1521  0.273699\n",
       "136                    fraud_Dickinson Ltd            1519  0.273340\n",
       "..                                     ...             ...       ...\n",
       "633                     fraud_Treutel-King             323  0.058123\n",
       "544                 fraud_Satterfield-Lowe             319  0.057403\n",
       "306                    fraud_Kessler Group             318  0.057223\n",
       "286                    fraud_Jerde-Hermann             312  0.056143\n",
       "516  fraud_Ritchie, Bradtke and Stiedemann             304  0.054704\n",
       "\n",
       "[693 rows x 3 columns]"
      ]
     },
     "execution_count": 36,
     "metadata": {},
     "output_type": "execute_result"
    }
   ],
   "source": [
    "df_merchant = df[['merchant','trans_num']].groupby(['merchant']).count().reset_index()\n",
    "df_merchant.columns = ['Merchant','merchant_count']\n",
    "\n",
    "df_merchant['percent'] = (df_merchant['merchant_count']/df_merchant['merchant_count'].sum())*100\n",
    "\n",
    "df_merchant.sort_values(by = ['percent'], ascending=False)"
   ]
  },
  {
   "cell_type": "code",
   "execution_count": 37,
   "metadata": {},
   "outputs": [],
   "source": [
    "df_fraud_merchant = df[['merchant','is_fraud','trans_num']].groupby(['merchant','is_fraud']).count().reset_index()\n",
    "df_fraud_merchant.columns = ['Merchant','is_fraud','count']\n",
    "\n",
    "df_fraud_merchant = df_fraud_merchant.merge(df_merchant[['Merchant','merchant_count','percent']],how='inner',\\\n",
    "                                  left_on='Merchant',right_on='Merchant')\n",
    "\n",
    "\n",
    "df_fraud_merchant['percent_grp'] = (df_fraud_merchant['count']/df_fraud_merchant['merchant_count'])*100"
   ]
  },
  {
   "cell_type": "code",
   "execution_count": 38,
   "metadata": {},
   "outputs": [
    {
     "data": {
      "text/html": [
       "<div>\n",
       "<style scoped>\n",
       "    .dataframe tbody tr th:only-of-type {\n",
       "        vertical-align: middle;\n",
       "    }\n",
       "\n",
       "    .dataframe tbody tr th {\n",
       "        vertical-align: top;\n",
       "    }\n",
       "\n",
       "    .dataframe thead th {\n",
       "        text-align: right;\n",
       "    }\n",
       "</style>\n",
       "<table border=\"1\" class=\"dataframe\">\n",
       "  <thead>\n",
       "    <tr style=\"text-align: right;\">\n",
       "      <th></th>\n",
       "      <th>Merchant</th>\n",
       "      <th>is_fraud</th>\n",
       "      <th>count</th>\n",
       "      <th>merchant_count</th>\n",
       "      <th>percent</th>\n",
       "      <th>percent_grp</th>\n",
       "    </tr>\n",
       "  </thead>\n",
       "  <tbody>\n",
       "    <tr>\n",
       "      <th>957</th>\n",
       "      <td>fraud_Romaguera, Cruickshank and Greenholt</td>\n",
       "      <td>1</td>\n",
       "      <td>18</td>\n",
       "      <td>828</td>\n",
       "      <td>0.148996</td>\n",
       "      <td>2.173913</td>\n",
       "    </tr>\n",
       "    <tr>\n",
       "      <th>703</th>\n",
       "      <td>fraud_Lemke-Gutmann</td>\n",
       "      <td>1</td>\n",
       "      <td>18</td>\n",
       "      <td>837</td>\n",
       "      <td>0.150616</td>\n",
       "      <td>2.150538</td>\n",
       "    </tr>\n",
       "    <tr>\n",
       "      <th>805</th>\n",
       "      <td>fraud_Mosciski, Ziemann and Farrell</td>\n",
       "      <td>1</td>\n",
       "      <td>18</td>\n",
       "      <td>870</td>\n",
       "      <td>0.156554</td>\n",
       "      <td>2.068966</td>\n",
       "    </tr>\n",
       "    <tr>\n",
       "      <th>439</th>\n",
       "      <td>fraud_Heathcote, Yost and Kertzmann</td>\n",
       "      <td>1</td>\n",
       "      <td>17</td>\n",
       "      <td>830</td>\n",
       "      <td>0.149356</td>\n",
       "      <td>2.048193</td>\n",
       "    </tr>\n",
       "    <tr>\n",
       "      <th>947</th>\n",
       "      <td>fraud_Rodriguez, Yost and Jenkins</td>\n",
       "      <td>1</td>\n",
       "      <td>10</td>\n",
       "      <td>501</td>\n",
       "      <td>0.090153</td>\n",
       "      <td>1.996008</td>\n",
       "    </tr>\n",
       "    <tr>\n",
       "      <th>...</th>\n",
       "      <td>...</td>\n",
       "      <td>...</td>\n",
       "      <td>...</td>\n",
       "      <td>...</td>\n",
       "      <td>...</td>\n",
       "      <td>...</td>\n",
       "    </tr>\n",
       "    <tr>\n",
       "      <th>708</th>\n",
       "      <td>fraud_Lind, Huel and McClure</td>\n",
       "      <td>1</td>\n",
       "      <td>1</td>\n",
       "      <td>1125</td>\n",
       "      <td>0.202440</td>\n",
       "      <td>0.088889</td>\n",
       "    </tr>\n",
       "    <tr>\n",
       "      <th>425</th>\n",
       "      <td>fraud_Harris Inc</td>\n",
       "      <td>1</td>\n",
       "      <td>1</td>\n",
       "      <td>1138</td>\n",
       "      <td>0.204780</td>\n",
       "      <td>0.087873</td>\n",
       "    </tr>\n",
       "    <tr>\n",
       "      <th>902</th>\n",
       "      <td>fraud_Raynor, Feest and Miller</td>\n",
       "      <td>1</td>\n",
       "      <td>1</td>\n",
       "      <td>1152</td>\n",
       "      <td>0.207299</td>\n",
       "      <td>0.086806</td>\n",
       "    </tr>\n",
       "    <tr>\n",
       "      <th>994</th>\n",
       "      <td>fraud_Schaefer, McGlynn and Bosco</td>\n",
       "      <td>1</td>\n",
       "      <td>1</td>\n",
       "      <td>1163</td>\n",
       "      <td>0.209278</td>\n",
       "      <td>0.085985</td>\n",
       "    </tr>\n",
       "    <tr>\n",
       "      <th>254</th>\n",
       "      <td>fraud_Dickinson Ltd</td>\n",
       "      <td>1</td>\n",
       "      <td>1</td>\n",
       "      <td>1519</td>\n",
       "      <td>0.273340</td>\n",
       "      <td>0.065833</td>\n",
       "    </tr>\n",
       "  </tbody>\n",
       "</table>\n",
       "<p>557 rows × 6 columns</p>\n",
       "</div>"
      ],
      "text/plain": [
       "                                       Merchant  is_fraud  count  \\\n",
       "957  fraud_Romaguera, Cruickshank and Greenholt         1     18   \n",
       "703                         fraud_Lemke-Gutmann         1     18   \n",
       "805         fraud_Mosciski, Ziemann and Farrell         1     18   \n",
       "439         fraud_Heathcote, Yost and Kertzmann         1     17   \n",
       "947           fraud_Rodriguez, Yost and Jenkins         1     10   \n",
       "..                                          ...       ...    ...   \n",
       "708                fraud_Lind, Huel and McClure         1      1   \n",
       "425                            fraud_Harris Inc         1      1   \n",
       "902              fraud_Raynor, Feest and Miller         1      1   \n",
       "994           fraud_Schaefer, McGlynn and Bosco         1      1   \n",
       "254                         fraud_Dickinson Ltd         1      1   \n",
       "\n",
       "     merchant_count   percent  percent_grp  \n",
       "957             828  0.148996     2.173913  \n",
       "703             837  0.150616     2.150538  \n",
       "805             870  0.156554     2.068966  \n",
       "439             830  0.149356     2.048193  \n",
       "947             501  0.090153     1.996008  \n",
       "..              ...       ...          ...  \n",
       "708            1125  0.202440     0.088889  \n",
       "425            1138  0.204780     0.087873  \n",
       "902            1152  0.207299     0.086806  \n",
       "994            1163  0.209278     0.085985  \n",
       "254            1519  0.273340     0.065833  \n",
       "\n",
       "[557 rows x 6 columns]"
      ]
     },
     "execution_count": 38,
     "metadata": {},
     "output_type": "execute_result"
    }
   ],
   "source": [
    "df_fraud_merchant[df_fraud_merchant['is_fraud'] == 1].sort_values(by = ['percent_grp'],ascending=False)"
   ]
  },
  {
   "cell_type": "raw",
   "metadata": {},
   "source": []
  },
  {
   "cell_type": "markdown",
   "metadata": {},
   "source": [
    "##### One Hot-Encoding"
   ]
  },
  {
   "cell_type": "code",
   "execution_count": 39,
   "metadata": {},
   "outputs": [],
   "source": [
    "category_onehot = pd.get_dummies(df.category, prefix='category', drop_first=True)\n",
    "gender_onehot = pd.get_dummies(df.gender, prefix='gender', drop_first=True)\n",
    "day_of_week_onehot = pd.get_dummies(df.day_of_week, prefix='day_of_week', drop_first=True)"
   ]
  },
  {
   "cell_type": "code",
   "execution_count": 40,
   "metadata": {},
   "outputs": [],
   "source": [
    "df1 = pd.concat([df, category_onehot,gender_onehot,day_of_week_onehot], axis=1)"
   ]
  },
  {
   "cell_type": "code",
   "execution_count": 44,
   "metadata": {},
   "outputs": [
    {
     "data": {
      "text/html": [
       "<div>\n",
       "<style scoped>\n",
       "    .dataframe tbody tr th:only-of-type {\n",
       "        vertical-align: middle;\n",
       "    }\n",
       "\n",
       "    .dataframe tbody tr th {\n",
       "        vertical-align: top;\n",
       "    }\n",
       "\n",
       "    .dataframe thead th {\n",
       "        text-align: right;\n",
       "    }\n",
       "</style>\n",
       "<table border=\"1\" class=\"dataframe\">\n",
       "  <thead>\n",
       "    <tr style=\"text-align: right;\">\n",
       "      <th></th>\n",
       "      <th>trans_date_trans_time</th>\n",
       "      <th>cc_num</th>\n",
       "      <th>merchant</th>\n",
       "      <th>category</th>\n",
       "      <th>amt</th>\n",
       "      <th>first</th>\n",
       "      <th>last</th>\n",
       "      <th>gender</th>\n",
       "      <th>street</th>\n",
       "      <th>city</th>\n",
       "      <th>...</th>\n",
       "      <th>category_shopping_net</th>\n",
       "      <th>category_shopping_pos</th>\n",
       "      <th>category_travel</th>\n",
       "      <th>gender_M</th>\n",
       "      <th>day_of_week_Monday</th>\n",
       "      <th>day_of_week_Saturday</th>\n",
       "      <th>day_of_week_Sunday</th>\n",
       "      <th>day_of_week_Thursday</th>\n",
       "      <th>day_of_week_Tuesday</th>\n",
       "      <th>day_of_week_Wednesday</th>\n",
       "    </tr>\n",
       "  </thead>\n",
       "  <tbody>\n",
       "    <tr>\n",
       "      <th>0</th>\n",
       "      <td>2020-06-21 12:14:25</td>\n",
       "      <td>2291163933867244</td>\n",
       "      <td>fraud_Kirlin and Sons</td>\n",
       "      <td>personal_care</td>\n",
       "      <td>2.86</td>\n",
       "      <td>Jeff</td>\n",
       "      <td>Elliott</td>\n",
       "      <td>M</td>\n",
       "      <td>351 Darlene Green</td>\n",
       "      <td>Columbia</td>\n",
       "      <td>...</td>\n",
       "      <td>0</td>\n",
       "      <td>0</td>\n",
       "      <td>0</td>\n",
       "      <td>1</td>\n",
       "      <td>0</td>\n",
       "      <td>0</td>\n",
       "      <td>1</td>\n",
       "      <td>0</td>\n",
       "      <td>0</td>\n",
       "      <td>0</td>\n",
       "    </tr>\n",
       "    <tr>\n",
       "      <th>1</th>\n",
       "      <td>2020-06-21 12:14:33</td>\n",
       "      <td>3573030041201292</td>\n",
       "      <td>fraud_Sporer-Keebler</td>\n",
       "      <td>personal_care</td>\n",
       "      <td>29.84</td>\n",
       "      <td>Joanne</td>\n",
       "      <td>Williams</td>\n",
       "      <td>F</td>\n",
       "      <td>3638 Marsh Union</td>\n",
       "      <td>Altonah</td>\n",
       "      <td>...</td>\n",
       "      <td>0</td>\n",
       "      <td>0</td>\n",
       "      <td>0</td>\n",
       "      <td>0</td>\n",
       "      <td>0</td>\n",
       "      <td>0</td>\n",
       "      <td>1</td>\n",
       "      <td>0</td>\n",
       "      <td>0</td>\n",
       "      <td>0</td>\n",
       "    </tr>\n",
       "    <tr>\n",
       "      <th>2</th>\n",
       "      <td>2020-06-21 12:14:53</td>\n",
       "      <td>3598215285024754</td>\n",
       "      <td>fraud_Swaniawski, Nitzsche and Welch</td>\n",
       "      <td>health_fitness</td>\n",
       "      <td>41.28</td>\n",
       "      <td>Ashley</td>\n",
       "      <td>Lopez</td>\n",
       "      <td>F</td>\n",
       "      <td>9333 Valentine Point</td>\n",
       "      <td>Bellmore</td>\n",
       "      <td>...</td>\n",
       "      <td>0</td>\n",
       "      <td>0</td>\n",
       "      <td>0</td>\n",
       "      <td>0</td>\n",
       "      <td>0</td>\n",
       "      <td>0</td>\n",
       "      <td>1</td>\n",
       "      <td>0</td>\n",
       "      <td>0</td>\n",
       "      <td>0</td>\n",
       "    </tr>\n",
       "    <tr>\n",
       "      <th>3</th>\n",
       "      <td>2020-06-21 12:15:15</td>\n",
       "      <td>3591919803438423</td>\n",
       "      <td>fraud_Haley Group</td>\n",
       "      <td>misc_pos</td>\n",
       "      <td>60.05</td>\n",
       "      <td>Brian</td>\n",
       "      <td>Williams</td>\n",
       "      <td>M</td>\n",
       "      <td>32941 Krystal Mill Apt. 552</td>\n",
       "      <td>Titusville</td>\n",
       "      <td>...</td>\n",
       "      <td>0</td>\n",
       "      <td>0</td>\n",
       "      <td>0</td>\n",
       "      <td>1</td>\n",
       "      <td>0</td>\n",
       "      <td>0</td>\n",
       "      <td>1</td>\n",
       "      <td>0</td>\n",
       "      <td>0</td>\n",
       "      <td>0</td>\n",
       "    </tr>\n",
       "    <tr>\n",
       "      <th>4</th>\n",
       "      <td>2020-06-21 12:15:17</td>\n",
       "      <td>3526826139003047</td>\n",
       "      <td>fraud_Johnston-Casper</td>\n",
       "      <td>travel</td>\n",
       "      <td>3.19</td>\n",
       "      <td>Nathan</td>\n",
       "      <td>Massey</td>\n",
       "      <td>M</td>\n",
       "      <td>5783 Evan Roads Apt. 465</td>\n",
       "      <td>Falmouth</td>\n",
       "      <td>...</td>\n",
       "      <td>0</td>\n",
       "      <td>0</td>\n",
       "      <td>1</td>\n",
       "      <td>1</td>\n",
       "      <td>0</td>\n",
       "      <td>0</td>\n",
       "      <td>1</td>\n",
       "      <td>0</td>\n",
       "      <td>0</td>\n",
       "      <td>0</td>\n",
       "    </tr>\n",
       "  </tbody>\n",
       "</table>\n",
       "<p>5 rows × 40 columns</p>\n",
       "</div>"
      ],
      "text/plain": [
       "  trans_date_trans_time            cc_num  \\\n",
       "0   2020-06-21 12:14:25  2291163933867244   \n",
       "1   2020-06-21 12:14:33  3573030041201292   \n",
       "2   2020-06-21 12:14:53  3598215285024754   \n",
       "3   2020-06-21 12:15:15  3591919803438423   \n",
       "4   2020-06-21 12:15:17  3526826139003047   \n",
       "\n",
       "                               merchant        category    amt   first  \\\n",
       "0                 fraud_Kirlin and Sons   personal_care   2.86    Jeff   \n",
       "1                  fraud_Sporer-Keebler   personal_care  29.84  Joanne   \n",
       "2  fraud_Swaniawski, Nitzsche and Welch  health_fitness  41.28  Ashley   \n",
       "3                     fraud_Haley Group        misc_pos  60.05   Brian   \n",
       "4                 fraud_Johnston-Casper          travel   3.19  Nathan   \n",
       "\n",
       "       last gender                       street        city  ...  \\\n",
       "0   Elliott      M            351 Darlene Green    Columbia  ...   \n",
       "1  Williams      F             3638 Marsh Union     Altonah  ...   \n",
       "2     Lopez      F         9333 Valentine Point    Bellmore  ...   \n",
       "3  Williams      M  32941 Krystal Mill Apt. 552  Titusville  ...   \n",
       "4    Massey      M     5783 Evan Roads Apt. 465    Falmouth  ...   \n",
       "\n",
       "  category_shopping_net  category_shopping_pos category_travel gender_M  \\\n",
       "0                     0                      0               0        1   \n",
       "1                     0                      0               0        0   \n",
       "2                     0                      0               0        0   \n",
       "3                     0                      0               0        1   \n",
       "4                     0                      0               1        1   \n",
       "\n",
       "  day_of_week_Monday  day_of_week_Saturday  day_of_week_Sunday  \\\n",
       "0                  0                     0                   1   \n",
       "1                  0                     0                   1   \n",
       "2                  0                     0                   1   \n",
       "3                  0                     0                   1   \n",
       "4                  0                     0                   1   \n",
       "\n",
       "  day_of_week_Thursday day_of_week_Tuesday  day_of_week_Wednesday  \n",
       "0                    0                   0                      0  \n",
       "1                    0                   0                      0  \n",
       "2                    0                   0                      0  \n",
       "3                    0                   0                      0  \n",
       "4                    0                   0                      0  \n",
       "\n",
       "[5 rows x 40 columns]"
      ]
     },
     "execution_count": 44,
     "metadata": {},
     "output_type": "execute_result"
    }
   ],
   "source": [
    "df1.head()"
   ]
  },
  {
   "cell_type": "raw",
   "metadata": {},
   "source": []
  },
  {
   "cell_type": "markdown",
   "metadata": {},
   "source": [
    "##### Test-Train Split"
   ]
  },
  {
   "cell_type": "code",
   "execution_count": 41,
   "metadata": {},
   "outputs": [],
   "source": [
    "X_cols = ['amt','city_pop', 'trans_hour',\n",
    "       'age', 'category_food_dining', 'category_gas_transport',\n",
    "       'category_grocery_net', 'category_grocery_pos',\n",
    "       'category_health_fitness', 'category_home', 'category_kids_pets',\n",
    "       'category_misc_net', 'category_misc_pos', 'category_personal_care',\n",
    "       'category_shopping_net', 'category_shopping_pos', 'category_travel',\n",
    "       'gender_M','day_of_week_Monday', 'day_of_week_Saturday',\n",
    "       'day_of_week_Sunday', 'day_of_week_Thursday', 'day_of_week_Tuesday',\n",
    "       'day_of_week_Wednesday']\n",
    "\n",
    "Y_cols = ['is_fraud']"
   ]
  },
  {
   "cell_type": "code",
   "execution_count": 42,
   "metadata": {},
   "outputs": [],
   "source": [
    "#Importing Library\n",
    "from sklearn.model_selection import train_test_split"
   ]
  },
  {
   "cell_type": "markdown",
   "metadata": {},
   "source": [
    "##### Oversampling"
   ]
  },
  {
   "cell_type": "code",
   "execution_count": 43,
   "metadata": {},
   "outputs": [],
   "source": [
    "#As this dataset is highly imbalance we have to balance this by over sampling\n",
    "cnt_non_fraud = df1[df1['is_fraud'] == 0]['amt'].count()\n",
    "df1_class_fraud = df1[df1['is_fraud'] == 1]\n",
    "df1_class_nonfraud = df1[df1['is_fraud'] == 0]"
   ]
  },
  {
   "cell_type": "code",
   "execution_count": 44,
   "metadata": {},
   "outputs": [
    {
     "name": "stdout",
     "output_type": "stream",
     "text": [
      "Random over-sampling:\n",
      "0    553574\n",
      "1    553574\n",
      "Name: is_fraud, dtype: int64\n"
     ]
    }
   ],
   "source": [
    "#OverSampling\n",
    "df1_class_fraud_oversample = df1_class_fraud.sample(cnt_non_fraud, replace=True)\n",
    "df1_oversampled = pd.concat([df1_class_nonfraud, df1_class_fraud_oversample], axis=0)\n",
    "\n",
    "print('Random over-sampling:')\n",
    "print(df1_oversampled['is_fraud'].value_counts())"
   ]
  },
  {
   "cell_type": "code",
   "execution_count": 64,
   "metadata": {},
   "outputs": [
    {
     "data": {
      "text/html": [
       "<div>\n",
       "<style scoped>\n",
       "    .dataframe tbody tr th:only-of-type {\n",
       "        vertical-align: middle;\n",
       "    }\n",
       "\n",
       "    .dataframe tbody tr th {\n",
       "        vertical-align: top;\n",
       "    }\n",
       "\n",
       "    .dataframe thead th {\n",
       "        text-align: right;\n",
       "    }\n",
       "</style>\n",
       "<table border=\"1\" class=\"dataframe\">\n",
       "  <thead>\n",
       "    <tr style=\"text-align: right;\">\n",
       "      <th></th>\n",
       "      <th>trans_date_trans_time</th>\n",
       "      <th>cc_num</th>\n",
       "      <th>merchant</th>\n",
       "      <th>category</th>\n",
       "      <th>amt</th>\n",
       "      <th>first</th>\n",
       "      <th>last</th>\n",
       "      <th>gender</th>\n",
       "      <th>street</th>\n",
       "      <th>city</th>\n",
       "      <th>...</th>\n",
       "      <th>category_shopping_net</th>\n",
       "      <th>category_shopping_pos</th>\n",
       "      <th>category_travel</th>\n",
       "      <th>gender_M</th>\n",
       "      <th>day_of_week_Monday</th>\n",
       "      <th>day_of_week_Saturday</th>\n",
       "      <th>day_of_week_Sunday</th>\n",
       "      <th>day_of_week_Thursday</th>\n",
       "      <th>day_of_week_Tuesday</th>\n",
       "      <th>day_of_week_Wednesday</th>\n",
       "    </tr>\n",
       "  </thead>\n",
       "  <tbody>\n",
       "    <tr>\n",
       "      <th>0</th>\n",
       "      <td>2020-06-21 12:14:25</td>\n",
       "      <td>2291163933867244</td>\n",
       "      <td>fraud_Kirlin and Sons</td>\n",
       "      <td>personal_care</td>\n",
       "      <td>2.86</td>\n",
       "      <td>Jeff</td>\n",
       "      <td>Elliott</td>\n",
       "      <td>M</td>\n",
       "      <td>351 Darlene Green</td>\n",
       "      <td>Columbia</td>\n",
       "      <td>...</td>\n",
       "      <td>0</td>\n",
       "      <td>0</td>\n",
       "      <td>0</td>\n",
       "      <td>1</td>\n",
       "      <td>0</td>\n",
       "      <td>0</td>\n",
       "      <td>1</td>\n",
       "      <td>0</td>\n",
       "      <td>0</td>\n",
       "      <td>0</td>\n",
       "    </tr>\n",
       "    <tr>\n",
       "      <th>1</th>\n",
       "      <td>2020-06-21 12:14:33</td>\n",
       "      <td>3573030041201292</td>\n",
       "      <td>fraud_Sporer-Keebler</td>\n",
       "      <td>personal_care</td>\n",
       "      <td>29.84</td>\n",
       "      <td>Joanne</td>\n",
       "      <td>Williams</td>\n",
       "      <td>F</td>\n",
       "      <td>3638 Marsh Union</td>\n",
       "      <td>Altonah</td>\n",
       "      <td>...</td>\n",
       "      <td>0</td>\n",
       "      <td>0</td>\n",
       "      <td>0</td>\n",
       "      <td>0</td>\n",
       "      <td>0</td>\n",
       "      <td>0</td>\n",
       "      <td>1</td>\n",
       "      <td>0</td>\n",
       "      <td>0</td>\n",
       "      <td>0</td>\n",
       "    </tr>\n",
       "    <tr>\n",
       "      <th>2</th>\n",
       "      <td>2020-06-21 12:14:53</td>\n",
       "      <td>3598215285024754</td>\n",
       "      <td>fraud_Swaniawski, Nitzsche and Welch</td>\n",
       "      <td>health_fitness</td>\n",
       "      <td>41.28</td>\n",
       "      <td>Ashley</td>\n",
       "      <td>Lopez</td>\n",
       "      <td>F</td>\n",
       "      <td>9333 Valentine Point</td>\n",
       "      <td>Bellmore</td>\n",
       "      <td>...</td>\n",
       "      <td>0</td>\n",
       "      <td>0</td>\n",
       "      <td>0</td>\n",
       "      <td>0</td>\n",
       "      <td>0</td>\n",
       "      <td>0</td>\n",
       "      <td>1</td>\n",
       "      <td>0</td>\n",
       "      <td>0</td>\n",
       "      <td>0</td>\n",
       "    </tr>\n",
       "    <tr>\n",
       "      <th>3</th>\n",
       "      <td>2020-06-21 12:15:15</td>\n",
       "      <td>3591919803438423</td>\n",
       "      <td>fraud_Haley Group</td>\n",
       "      <td>misc_pos</td>\n",
       "      <td>60.05</td>\n",
       "      <td>Brian</td>\n",
       "      <td>Williams</td>\n",
       "      <td>M</td>\n",
       "      <td>32941 Krystal Mill Apt. 552</td>\n",
       "      <td>Titusville</td>\n",
       "      <td>...</td>\n",
       "      <td>0</td>\n",
       "      <td>0</td>\n",
       "      <td>0</td>\n",
       "      <td>1</td>\n",
       "      <td>0</td>\n",
       "      <td>0</td>\n",
       "      <td>1</td>\n",
       "      <td>0</td>\n",
       "      <td>0</td>\n",
       "      <td>0</td>\n",
       "    </tr>\n",
       "    <tr>\n",
       "      <th>4</th>\n",
       "      <td>2020-06-21 12:15:17</td>\n",
       "      <td>3526826139003047</td>\n",
       "      <td>fraud_Johnston-Casper</td>\n",
       "      <td>travel</td>\n",
       "      <td>3.19</td>\n",
       "      <td>Nathan</td>\n",
       "      <td>Massey</td>\n",
       "      <td>M</td>\n",
       "      <td>5783 Evan Roads Apt. 465</td>\n",
       "      <td>Falmouth</td>\n",
       "      <td>...</td>\n",
       "      <td>0</td>\n",
       "      <td>0</td>\n",
       "      <td>1</td>\n",
       "      <td>1</td>\n",
       "      <td>0</td>\n",
       "      <td>0</td>\n",
       "      <td>1</td>\n",
       "      <td>0</td>\n",
       "      <td>0</td>\n",
       "      <td>0</td>\n",
       "    </tr>\n",
       "  </tbody>\n",
       "</table>\n",
       "<p>5 rows × 40 columns</p>\n",
       "</div>"
      ],
      "text/plain": [
       "  trans_date_trans_time            cc_num  \\\n",
       "0   2020-06-21 12:14:25  2291163933867244   \n",
       "1   2020-06-21 12:14:33  3573030041201292   \n",
       "2   2020-06-21 12:14:53  3598215285024754   \n",
       "3   2020-06-21 12:15:15  3591919803438423   \n",
       "4   2020-06-21 12:15:17  3526826139003047   \n",
       "\n",
       "                               merchant        category    amt   first  \\\n",
       "0                 fraud_Kirlin and Sons   personal_care   2.86    Jeff   \n",
       "1                  fraud_Sporer-Keebler   personal_care  29.84  Joanne   \n",
       "2  fraud_Swaniawski, Nitzsche and Welch  health_fitness  41.28  Ashley   \n",
       "3                     fraud_Haley Group        misc_pos  60.05   Brian   \n",
       "4                 fraud_Johnston-Casper          travel   3.19  Nathan   \n",
       "\n",
       "       last gender                       street        city  ...  \\\n",
       "0   Elliott      M            351 Darlene Green    Columbia  ...   \n",
       "1  Williams      F             3638 Marsh Union     Altonah  ...   \n",
       "2     Lopez      F         9333 Valentine Point    Bellmore  ...   \n",
       "3  Williams      M  32941 Krystal Mill Apt. 552  Titusville  ...   \n",
       "4    Massey      M     5783 Evan Roads Apt. 465    Falmouth  ...   \n",
       "\n",
       "  category_shopping_net  category_shopping_pos category_travel gender_M  \\\n",
       "0                     0                      0               0        1   \n",
       "1                     0                      0               0        0   \n",
       "2                     0                      0               0        0   \n",
       "3                     0                      0               0        1   \n",
       "4                     0                      0               1        1   \n",
       "\n",
       "  day_of_week_Monday  day_of_week_Saturday  day_of_week_Sunday  \\\n",
       "0                  0                     0                   1   \n",
       "1                  0                     0                   1   \n",
       "2                  0                     0                   1   \n",
       "3                  0                     0                   1   \n",
       "4                  0                     0                   1   \n",
       "\n",
       "  day_of_week_Thursday day_of_week_Tuesday  day_of_week_Wednesday  \n",
       "0                    0                   0                      0  \n",
       "1                    0                   0                      0  \n",
       "2                    0                   0                      0  \n",
       "3                    0                   0                      0  \n",
       "4                    0                   0                      0  \n",
       "\n",
       "[5 rows x 40 columns]"
      ]
     },
     "execution_count": 64,
     "metadata": {},
     "output_type": "execute_result"
    }
   ],
   "source": [
    "df1_oversampled.head()"
   ]
  },
  {
   "cell_type": "markdown",
   "metadata": {},
   "source": [
    "####  Train and test split"
   ]
  },
  {
   "cell_type": "code",
   "execution_count": 45,
   "metadata": {},
   "outputs": [],
   "source": [
    "# Splitting the data into train and test\n",
    "X_train, X_test, y_train, y_test = train_test_split(df1_oversampled[X_cols],df1_oversampled[Y_cols] , train_size=0.7, test_size=0.3, random_state=42)"
   ]
  },
  {
   "cell_type": "code",
   "execution_count": 71,
   "metadata": {},
   "outputs": [
    {
     "data": {
      "text/plain": [
       "(775003, 24)"
      ]
     },
     "execution_count": 71,
     "metadata": {},
     "output_type": "execute_result"
    }
   ],
   "source": [
    "X_train.shape"
   ]
  },
  {
   "cell_type": "code",
   "execution_count": 72,
   "metadata": {},
   "outputs": [
    {
     "data": {
      "text/plain": [
       "(332145, 24)"
      ]
     },
     "execution_count": 72,
     "metadata": {},
     "output_type": "execute_result"
    }
   ],
   "source": [
    "X_test.shape"
   ]
  },
  {
   "cell_type": "markdown",
   "metadata": {},
   "source": [
    "#### Logistic Regression"
   ]
  },
  {
   "cell_type": "code",
   "execution_count": 46,
   "metadata": {},
   "outputs": [],
   "source": [
    "#Importing Library\n",
    "from sklearn.linear_model import LogisticRegression"
   ]
  },
  {
   "cell_type": "code",
   "execution_count": 47,
   "metadata": {},
   "outputs": [],
   "source": [
    "logreg = LogisticRegression(random_state=42)"
   ]
  },
  {
   "cell_type": "code",
   "execution_count": 48,
   "metadata": {},
   "outputs": [
    {
     "data": {
      "text/plain": [
       "LogisticRegression(random_state=42)"
      ]
     },
     "execution_count": 48,
     "metadata": {},
     "output_type": "execute_result"
    }
   ],
   "source": [
    "#Building Logistic Regression  Model\n",
    "\n",
    "logreg.fit(X_train, y_train)"
   ]
  },
  {
   "cell_type": "code",
   "execution_count": 49,
   "metadata": {},
   "outputs": [],
   "source": [
    "y_train_pred = logreg.predict(X_train)\n",
    "y_test_pred = logreg.predict(X_test)"
   ]
  },
  {
   "cell_type": "code",
   "execution_count": 50,
   "metadata": {},
   "outputs": [],
   "source": [
    "from sklearn.metrics import accuracy_score, confusion_matrix, classification_report"
   ]
  },
  {
   "cell_type": "code",
   "execution_count": 51,
   "metadata": {},
   "outputs": [
    {
     "name": "stdout",
     "output_type": "stream",
     "text": [
      "[[359569  28016]\n",
      " [ 98995 288423]]\n",
      "              precision    recall  f1-score   support\n",
      "\n",
      "           0       0.78      0.93      0.85    387585\n",
      "           1       0.91      0.74      0.82    387418\n",
      "\n",
      "    accuracy                           0.84    775003\n",
      "   macro avg       0.85      0.84      0.83    775003\n",
      "weighted avg       0.85      0.84      0.83    775003\n",
      "\n"
     ]
    }
   ],
   "source": [
    "print(confusion_matrix(y_train, y_train_pred))\n",
    "print(classification_report(y_train, y_train_pred))"
   ]
  },
  {
   "cell_type": "code",
   "execution_count": 52,
   "metadata": {},
   "outputs": [
    {
     "name": "stdout",
     "output_type": "stream",
     "text": [
      "[[153897  12092]\n",
      " [ 42383 123773]]\n",
      "              precision    recall  f1-score   support\n",
      "\n",
      "           0       0.78      0.93      0.85    165989\n",
      "           1       0.91      0.74      0.82    166156\n",
      "\n",
      "    accuracy                           0.84    332145\n",
      "   macro avg       0.85      0.84      0.83    332145\n",
      "weighted avg       0.85      0.84      0.83    332145\n",
      "\n"
     ]
    }
   ],
   "source": [
    "print(confusion_matrix(y_test, y_test_pred))\n",
    "print(classification_report(y_test, y_test_pred))"
   ]
  },
  {
   "cell_type": "markdown",
   "metadata": {},
   "source": [
    "##### Logistic Regression model results:\n",
    "\n",
    "Training data: \n",
    "\n",
    "Accuracy - 85%\n",
    "\n",
    "recall   - 84%\n",
    "\n",
    "Testing data:\n",
    "\n",
    "Accuracy - 85%\n",
    "\n",
    "recall   - 84%"
   ]
  },
  {
   "cell_type": "raw",
   "metadata": {},
   "source": []
  }
 ],
 "metadata": {
  "kernelspec": {
   "display_name": "Python 3",
   "language": "python",
   "name": "python3"
  },
  "language_info": {
   "codemirror_mode": {
    "name": "ipython",
    "version": 3
   },
   "file_extension": ".py",
   "mimetype": "text/x-python",
   "name": "python",
   "nbconvert_exporter": "python",
   "pygments_lexer": "ipython3",
   "version": "3.8.5"
  }
 },
 "nbformat": 4,
 "nbformat_minor": 4
}
